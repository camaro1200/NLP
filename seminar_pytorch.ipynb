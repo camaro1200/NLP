{
 "cells": [
  {
   "cell_type": "markdown",
   "metadata": {},
   "source": [
    "### Generating names with recurrent neural networks\n",
    "\n",
    "This time you'll find yourself delving into the heart (and other intestines) of recurrent neural networks on a class of toy problems.\n",
    "\n",
    "Struggle to find a name for the variable? Let's see how you'll come up with a name for your son/daughter. Surely no human has expertize over what is a good child name, so let us train RNN instead;\n",
    "\n",
    "It's dangerous to go alone, take these:"
   ]
  },
  {
   "cell_type": "code",
   "execution_count": 72,
   "metadata": {},
   "outputs": [],
   "source": [
    "import numpy as np\n",
    "import matplotlib.pyplot as plt\n",
    "%matplotlib inline\n",
    "\n",
    "from IPython.display import clear_output\n",
    "from random import sample\n",
    "import os\n",
    "\n",
    "import torch, torch.nn as nn\n",
    "import torch.nn.functional as F\n",
    "\n",
    "#!wget https://raw.githubusercontent.com/yandexdataschool/Practical_DL/fall19/week06_rnn/names -O names"
   ]
  },
  {
   "cell_type": "markdown",
   "metadata": {},
   "source": [
    "# Our data\n",
    "The dataset contains ~8k earthling names from different cultures, all in latin transcript.\n",
    "\n",
    "This notebook has been designed so as to allow you to quickly swap names for something similar: deep learning article titles, IKEA furniture, pokemon names, etc."
   ]
  },
  {
   "cell_type": "code",
   "execution_count": 73,
   "metadata": {},
   "outputs": [],
   "source": [
    "\n",
    "start_token = \" \"\n",
    "\n",
    "read_file = \"/home/iris/paulshab/ShadLab7/shakespeare.txt\"\n",
    "#read_file = \"/home/iris/paulshab/ShadLab7/names\"\n",
    "\n",
    "with open(read_file) as f:\n",
    "    lines = f.read()[:-1].split('\\n')\n",
    "    lines = [start_token + line for line in lines]"
   ]
  },
  {
   "cell_type": "code",
   "execution_count": 74,
   "metadata": {},
   "outputs": [
    {
     "name": "stdout",
     "output_type": "stream",
     "text": [
      "n samples =  2633\n",
      " \tSONNETS\n",
      "   I am to wait, though waiting so be hell;\n",
      " Book both my wilfulness and errors down\n"
     ]
    }
   ],
   "source": [
    "print ('n samples = ',len(lines))\n",
    "for x in lines[::1000]:\n",
    "    print (x)"
   ]
  },
  {
   "cell_type": "code",
   "execution_count": 75,
   "metadata": {},
   "outputs": [
    {
     "name": "stdout",
     "output_type": "stream",
     "text": [
      "max length = 61\n"
     ]
    },
    {
     "data": {
      "image/png": "[encoded data removed]",
      "text/plain": [
       "<Figure size 432x288 with 1 Axes>"
      ]
     },
     "metadata": {
      "needs_background": "light"
     },
     "output_type": "display_data"
    }
   ],
   "source": [
    "MAX_LENGTH = max(map(len, lines))\n",
    "print(\"max length =\", MAX_LENGTH)\n",
    "\n",
    "plt.title('Sequence length distribution')\n",
    "plt.hist(list(map(len, lines)),bins=25);"
   ]
  },
  {
   "cell_type": "code",
   "execution_count": 5,
   "metadata": {},
   "outputs": [
    {
     "data": {
      "text/plain": [
       "2633"
      ]
     },
     "execution_count": 5,
     "metadata": {},
     "output_type": "execute_result"
    }
   ],
   "source": [
    "len(lines)"
   ]
  },
  {
   "cell_type": "code",
   "execution_count": 76,
   "metadata": {},
   "outputs": [],
   "source": [
    "chars = list(set(lines))\n",
    "len(chars)\n",
    "\n",
    "data_size, vocab_size = len(lines), len(chars)\n",
    "\n",
    "char_to_indx = {ch:i for i, ch in enumerate(chars)}\n",
    "indx_to_char = {i:ch for i, ch in enumerate(chars)}"
   ]
  },
  {
   "cell_type": "code",
   "execution_count": 77,
   "metadata": {},
   "outputs": [
    {
     "data": {
      "text/plain": [
       "{0: ' That she hath thee, is of my wailing chief,',\n",
       " 1: \"   For I must ne'er love him whom thou dost hate.\",\n",
       " 2: ' O, that record could with a backward look,',\n",
       " 3: '   That then I scorn to change my state with kings.',\n",
       " 4: '   I will be true, despite thy scythe and thee.',\n",
       " 5: ' XXXIV.',\n",
       " 6: ' By looking on thee in the living day,',\n",
       " 7: ' XXV.',\n",
       " 8: ' Why so large cost, having so short a lease,',\n",
       " 9: ' She keeps thee to this purpose, that her skill',\n",
       " 10: ' Before the bastard signs of fair were born,',\n",
       " 11: ' Than niggard truth would willingly impart:',\n",
       " 12: ' Take all my loves, my love, yea, take them all;',\n",
       " 13: '   Presume not on thy heart when mine is slain;',\n",
       " 14: ' But thou wilt not, nor he will not be free,',\n",
       " 15: ' In act thy bed-vow broke and new faith torn,',\n",
       " 16: '   But that your trespass now becomes a fee;',\n",
       " 17: ' Yet who knows not conscience is born of love?',\n",
       " 18: \" Beauty no pencil, beauty's truth to lay;\",\n",
       " 19: \" At first the very worst of fortune's might,\",\n",
       " 20: ' The dedicated words which writers use',\n",
       " 21: ' Who in despite of view is pleased to dote;',\n",
       " 22: ' My tongue-tied patience with too much disdain;',\n",
       " 23: ' In our two loves there is but one respect,',\n",
       " 24: ' The living record of your memory.',\n",
       " 25: ' Thou dost love her, because thou knowst I love her;',\n",
       " 26: ' Roses of shadow, since his rose is true?',\n",
       " 27: ' Nor that full star that ushers in the even',\n",
       " 28: ' But from thine eyes my knowledge I derive,',\n",
       " 29: \" And my next self thou harder hast engross'd:\",\n",
       " 30: '   So long as men can breathe or eyes can see,',\n",
       " 31: ' When every private widow well may keep',\n",
       " 32: ' XXVIII.',\n",
       " 33: ' Root pity in thy heart, that when it grows',\n",
       " 34: ' Gored mine own thoughts, sold cheap what is most dear,',\n",
       " 35: ' Take all my comfort of thy worth and truth.',\n",
       " 36: '   And nights bright days when dreams do show thee me.',\n",
       " 37: ' But thou art twice forsworn, to me love swearing,',\n",
       " 38: ' How to divide the conquest of thy sight;',\n",
       " 39: ' A god in love, to whom I am confined.',\n",
       " 40: \" And seal'd false bonds of love as oft as mine,\",\n",
       " 41: '   Till my bad angel fire my good one out.',\n",
       " 42: ' XCIV.',\n",
       " 43: '   In all external grace you have some part,',\n",
       " 44: ' And his love-kindling fire did quickly steep',\n",
       " 45: ' XXIII.',\n",
       " 46: ' LIII.',\n",
       " 47: ' The hand that writ it; for I love you so',\n",
       " 48: ' How have mine eyes out of their spheres been fitted',\n",
       " 49: ' When not to be receives reproach of being,',\n",
       " 50: ' That time of year thou mayst in me behold',\n",
       " 51: ' Even in the eyes of all posterity',\n",
       " 52: \"   Thy unused beauty must be tomb'd with thee,\",\n",
       " 53: ' Dost thou upon thy fading mansion spend?',\n",
       " 54: ' Thy hungry eyes even till they wink with fullness,',\n",
       " 55: ' Weary with toil, I haste me to my bed,',\n",
       " 56: \" Ere beauty's dead fleece made another gay:\",\n",
       " 57: ' Mark how one string, sweet husband to another,',\n",
       " 58: ' Your love and pity doth the impression fill',\n",
       " 59: ' For then despite of space I would be brought,',\n",
       " 60: ' Bearing the wanton burden of the prime,',\n",
       " 61: ' XLIV.',\n",
       " 62: '   Lo! thus, by day my limbs, by night my mind,',\n",
       " 63: ' That this huge stage presenteth nought but shows',\n",
       " 64: \" When what I seek, my weary travel's end,\",\n",
       " 65: \" And there reigns love and all love's loving parts,\",\n",
       " 66: ' To what you will; to you it doth belong',\n",
       " 67: ' Above a mortal pitch, that struck me dead?',\n",
       " 68: ' Some in their hawks and hounds, some in their horse;',\n",
       " 69: ' Was used in giving gentle doom,',\n",
       " 70: '   As any she belied with false compare.',\n",
       " 71: \"   But when your countenance fill'd up his line,\",\n",
       " 72: ' And tongues to be your being shall rehearse',\n",
       " 73: '   And yet, by heaven, I think my love as rare',\n",
       " 74: ' How sweet and lovely dost thou make the shame',\n",
       " 75: ' Thou makest faults graces that to thee resort.',\n",
       " 76: ' You are my all the world, and I must strive',\n",
       " 77: ' And that, in guess, they measure by thy deeds;',\n",
       " 78: ' Thy dial how thy precious minutes waste;',\n",
       " 79: ' That I in thy abundance am sufficed',\n",
       " 80: ' Those lines that I before have writ do lie,',\n",
       " 81: ' Wherein it finds a joy above the rest:',\n",
       " 82: \" Nor are mine ears with thy tongue's tune delighted,\",\n",
       " 83: ' And situation with those dancing chips,',\n",
       " 84: \" Have from the forests shook three summers' pride,\",\n",
       " 85: ' In winged speed no motion shall I know:',\n",
       " 86: ' Thou canst not, love, disgrace me half so ill,',\n",
       " 87: \" Where art thou, Muse, that thou forget'st so long\",\n",
       " 88: ' Speak of the spring and foison of the year;',\n",
       " 89: '   Love is a babe; then might I not say so,',\n",
       " 90: ' The manner of my pity-wanting pain.',\n",
       " 91: ' Which for memorial still with thee shall stay.',\n",
       " 92: ' Or any of these all, or all, or more,',\n",
       " 93: ' And, sick of welfare, found a kind of meetness',\n",
       " 94: ' A bliss in proof, and proved, a very woe;',\n",
       " 95: ' Our love was new and then but in the spring',\n",
       " 96: ' Yet what the best is take the worst to be.',\n",
       " 97: '   Those that can see thou lovest, and I am blind.',\n",
       " 98: ' Save, where you are how happy you make those.',\n",
       " 99: ' Grows fairer than at first, more strong, far greater.',\n",
       " 100: '   O, none, unless this miracle have might,',\n",
       " 101: ' XXIV.',\n",
       " 102: ' So are you to my thoughts as food to life,',\n",
       " 103: ' Chiding that tongue that ever sweet',\n",
       " 104: ' Look in your glass, and there appears a face',\n",
       " 105: ' And so the general of hot desire',\n",
       " 106: ' LXVI.',\n",
       " 107: \" And thou present'st a pure unstained prime.\",\n",
       " 108: '   Then will I swear beauty herself is black',\n",
       " 109: ' Growing a bath and healthful remedy',\n",
       " 110: ' And by addition me of thee defeated,',\n",
       " 111: ' In vowing new hate after new love bearing.',\n",
       " 112: \" Like a deceived husband; so love's face\",\n",
       " 113: \" And buds of marjoram had stol'n thy hair:\",\n",
       " 114: ' Whilst it hath thought itself so blessed never!',\n",
       " 115: ' And shalt by fortune once more re-survey',\n",
       " 116: ' And so my patent back again is swerving.',\n",
       " 117: ' If I might teach thee wit, better it were,',\n",
       " 118: \" By new unfolding his imprison'd pride.\",\n",
       " 119: ' Nothing, sweet boy; but yet, like prayers divine,',\n",
       " 120: ' Thyself thou gavest, thy own worth then not knowing,',\n",
       " 121: ' Of bird of flower, or shape, which it doth latch:',\n",
       " 122: ' Both grace and faults are loved of more and less;',\n",
       " 123: '   For sweetest things turn sourest by their deeds;',\n",
       " 124: ' LXXIII.',\n",
       " 125: '   From me far off, with others all too near.',\n",
       " 126: ' Which, like a canker in the fragrant rose,',\n",
       " 127: '   And him as for a map doth Nature store,',\n",
       " 128: ' Thou canst not vex me with inconstant mind,',\n",
       " 129: ' In a cold valley-fountain of that ground;',\n",
       " 130: ' So is it not with me as with that Muse',\n",
       " 131: ' Weighs not the dust and injury of age,',\n",
       " 132: \" Which my heart knows the wide world's common place?\",\n",
       " 133: '   So shalt thou feed on Death, that feeds on men,',\n",
       " 134: \" The worser spirit a woman colour'd ill.\",\n",
       " 135: ' XVII.',\n",
       " 136: ' They are but dressings of a former sight.',\n",
       " 137: ' LXXXIV.',\n",
       " 138: ' When in eternal lines to time thou growest:',\n",
       " 139: \" A man in hue, all 'hues' in his controlling,\",\n",
       " 140: ' Yet fear her, O thou minion of her pleasure!',\n",
       " 141: ' VIII.',\n",
       " 142: ' Of more delight than hawks or horses be;',\n",
       " 143: ' Though words come hindmost, holds his rank before.',\n",
       " 144: ' Ah! wherefore with infection should he live,',\n",
       " 145: ' LI.',\n",
       " 146: ' Till Nature, as she wrought thee, fell a-doting,',\n",
       " 147: ' Though I, once gone, to all the world must die:',\n",
       " 148: ' And yet, love knows, it is a greater grief',\n",
       " 149: \" To let base clouds o'ertake me in my way,\",\n",
       " 150: ' My heavy eyelids to the weary night?',\n",
       " 151: ' Shall worms, inheritors of this excess,',\n",
       " 152: ' Then hate me when thou wilt; if ever, now;',\n",
       " 153: \" And having thee, of all men's pride I boast:\",\n",
       " 154: ' Come daily to the banks, that, when they see',\n",
       " 155: '   You still shall live--such virtue hath my pen--',\n",
       " 156: '   Look, what is best, that best I wish in thee:',\n",
       " 157: \" So runn'st thou after that which flies from thee,\",\n",
       " 158: ' X.',\n",
       " 159: \" If not from my love's breath? The purple pride\",\n",
       " 160: ' To kiss the tender inward of thy hand,',\n",
       " 161: ' And from the forlorn world his visage hide,',\n",
       " 162: ' To find where your true image pictured lies;',\n",
       " 163: \" What old December's bareness every where!\",\n",
       " 164: ' Then can I drown an eye, unused to flow,',\n",
       " 165: ' Doing thee vantage, double-vantage me.',\n",
       " 166: ' I should in thought control your times of pleasure,',\n",
       " 167: ' So are those errors that in thee are seen',\n",
       " 168: ' LXIII.',\n",
       " 169: ' And for that riches where is my deserving?',\n",
       " 170: ' Sometime too hot the eye of heaven shines,',\n",
       " 171: ' But when my glass shows me myself indeed,',\n",
       " 172: ' When wasteful war shall statues overturn,',\n",
       " 173: '   To make him seem long hence as he shows now.',\n",
       " 174: \" Love's eye is not so true as all men's 'No.'\",\n",
       " 175: ' Such civil war is in my love and hate',\n",
       " 176: ' Yourself to pardon of self-doing crime.',\n",
       " 177: ' Thou art the fairest and most precious jewel.',\n",
       " 178: ' Sing to the ear that doth thy lays esteem',\n",
       " 179: ' Mark how with my neglect I do dispense:',\n",
       " 180: \"   To hear with eyes belongs to love's fine wit.\",\n",
       " 181: \" Upon thyself thy beauty's legacy?\",\n",
       " 182: '   You had a father: let your son say so.',\n",
       " 183: ' CVII.',\n",
       " 184: \" For beauty's pattern to succeeding men.\",\n",
       " 185: ' CIX.',\n",
       " 186: ' Which, rank of goodness, would by ill be cured:',\n",
       " 187: ' But, like a sad slave, stay and think of nought',\n",
       " 188: ' CXXX.',\n",
       " 189: ' Then can no horse with my desire keep pace;',\n",
       " 190: ' When beauty lived and died as flowers do now,',\n",
       " 191: ' Full many a glorious morning have I seen',\n",
       " 192: ' And then believe me, my love is as fair',\n",
       " 193: ' Uttering bare truth, even so as foes commend.',\n",
       " 194: ' Let this sad interim like the ocean be',\n",
       " 195: ' Why should he live, now Nature bankrupt is,',\n",
       " 196: ' LXXII.',\n",
       " 197: ' Like to the lark at break of day arising',\n",
       " 198: ' LXXIX.',\n",
       " 199: \" And like enough thou know'st thy estimate:\",\n",
       " 200: \"   For thee against myself I'll vow debate,\",\n",
       " 201: ' The more I hear and see just cause of hate?',\n",
       " 202: ' Although thou steal thee all my poverty;',\n",
       " 203: ' Of princes, shall outlive this powerful rhyme;',\n",
       " 204: \" The owner's tongue doth publish every where.\",\n",
       " 205: \" Upon thy side against myself I'll fight,\",\n",
       " 206: ' How can I then return in happy plight,',\n",
       " 207: ' And for myself mine own worth do define,',\n",
       " 208: ' With others thou shouldst not abhor my state:',\n",
       " 209: ' LVIII.',\n",
       " 210: ' But since your worth, wide as the ocean is,',\n",
       " 211: '   Perforce am thine, and all that is in me.',\n",
       " 212: ' XCV.',\n",
       " 213: ' The world will wail thee, like a makeless wife;',\n",
       " 214: ' If from thyself to store thou wouldst convert;',\n",
       " 215: \" Which works on leases of short-number'd hours,\",\n",
       " 216: ' Entitled in thy parts do crowned sit,',\n",
       " 217: '   To give full growth to that which still doth grow?',\n",
       " 218: ' CXXIII.',\n",
       " 219: '   Save that, to die, I leave my love alone.',\n",
       " 220: ' There is such strength and warrantize of skill',\n",
       " 221: '   And that thou teachest how to make one twain,',\n",
       " 222: '   Tired with all these, from these would I be gone,',\n",
       " 223: ' When yellow leaves, or none, or few, do hang',\n",
       " 224: ' That I in your sweet thoughts would be forgot',\n",
       " 225: ' So, either by thy picture or my love,',\n",
       " 226: ' This brand she quenched in a cool well by,',\n",
       " 227: ' Happy to have thy love, happy to die!',\n",
       " 228: \" Yet doth it steal sweet hours from love's delight.\",\n",
       " 229: \" Breathed forth the sound that said 'I hate'\",\n",
       " 230: ' And therefore have I slept in your report,',\n",
       " 231: ' Within thine own bud buriest thy content',\n",
       " 232: ' And both for my sake lay on me this cross:',\n",
       " 233: ' If thinking on me then should make you woe.',\n",
       " 234: ' For term of life thou art assured mine,',\n",
       " 235: ' Of his quick objects hath the mind no part,',\n",
       " 236: ' Nor draw no lines there with thine antique pen;',\n",
       " 237: ' Sometime all full with feasting on your sight',\n",
       " 238: ' That music hath a far more pleasing sound;',\n",
       " 239: ' Is from the book of honour razed quite,',\n",
       " 240: ' That you are you, so dignifies his story,',\n",
       " 241: '   There lives more life in one of your fair eyes',\n",
       " 242: '   To keep an adjunct to remember thee',\n",
       " 243: \" And, for they look'd but with divining eyes,\",\n",
       " 244: ' Attending on his golden pilgrimage;',\n",
       " 245: \" Pity me then and wish I were renew'd;\",\n",
       " 246: ' Whilst that this shadow doth such substance give',\n",
       " 247: \" Stirr'd by a painted beauty to his verse,\",\n",
       " 248: \" Of plagues, of dearths, or seasons' quality;\",\n",
       " 249: \" Thee have I not lock'd up in any chest,\",\n",
       " 250: ' And Time that gave doth now his gift confound.',\n",
       " 251: ' XLI.',\n",
       " 252: ' III.',\n",
       " 253: ' And, to enlighten thee, gave eyes to blindness,',\n",
       " 254: ' To set a form upon desired change,',\n",
       " 255: '   As high as learning my rude ignorance.',\n",
       " 256: '   Make but my name thy love, and love that still,',\n",
       " 257: ' The second burden of a former child!',\n",
       " 258: ' And made myself a motley to the view,',\n",
       " 259: \" A woman's gentle heart, but not acquainted\",\n",
       " 260: ' From limits far remote where thou dost stay.',\n",
       " 261: ' Then, gentle cheater, urge not my amiss,',\n",
       " 262: ' It fears not policy, that heretic,',\n",
       " 263: \"   But here's the joy; my friend and I are one;\",\n",
       " 264: \" When day's oppression is not eased by night,\",\n",
       " 265: ' And that fresh blood which youngly thou bestowest',\n",
       " 266: ' Upon the farthest earth removed from thee;',\n",
       " 267: ' Feeding on that which doth preserve the ill,',\n",
       " 268: ' To hideous winter and confounds him there;',\n",
       " 269: ' XCI.',\n",
       " 270: ' Not marble, nor the gilded monuments',\n",
       " 271: ' What merit lived in me, that you should love',\n",
       " 272: \" Than unswept stone besmear'd with sluttish time.\",\n",
       " 273: ' Be it lawful I love thee, as thou lovest those',\n",
       " 274: ' In me thou seest the twilight of such day',\n",
       " 275: ' Savage, extreme, rude, cruel, not to trust,',\n",
       " 276: ' Who taught thee how to make me love thee more',\n",
       " 277: ' And to the painted banquet bids my heart;',\n",
       " 278: ' LXXXVI.',\n",
       " 279: ' CXIII.',\n",
       " 280: ' To show me worthy of thy sweet respect:',\n",
       " 281: ' If the dull substance of my flesh were thought,',\n",
       " 282: ' It is so grounded inward in my heart.',\n",
       " 283: ' Both truth and beauty on my love depends;',\n",
       " 284: ' O, let me suffer, being at your beck,',\n",
       " 285: ' For what care I who calls me well or ill,',\n",
       " 286: \" And dig deep trenches in thy beauty's field,\",\n",
       " 287: ' And burn the long-lived phoenix in her blood;',\n",
       " 288: '   This I do vow and this shall ever be;',\n",
       " 289: \" But now is black beauty's successive heir,\",\n",
       " 290: '   And so should you, to love things nothing worth.',\n",
       " 291: ' So long as youth and thou are of one date;',\n",
       " 292: ' For all my vows are oaths but to misuse thee',\n",
       " 293: ' Or made them swear against the thing they see;',\n",
       " 294: \" Beauty's effect with beauty were bereft,\",\n",
       " 295: ' To guard the lawful reasons on thy part:',\n",
       " 296: ' Nor think the bitterness of absence sour',\n",
       " 297: '   Where time and outward form would show it dead.',\n",
       " 298: ' Even of five hundred courses of the sun,',\n",
       " 299: '   Painting my age with beauty of thy days.',\n",
       " 300: ' His tender heir might bear his memory:',\n",
       " 301: '   Being fond on praise, which makes your praises worse.',\n",
       " 302: \" To me that languish'd for her sake;\",\n",
       " 303: ' LXX.',\n",
       " 304: \" And with old woes new wail my dear time's waste:\",\n",
       " 305: ' To this composed wonder of your frame;',\n",
       " 306: ' Duty so great, which wit so poor as mine',\n",
       " 307: \" 'Had my friend's Muse grown with this growing age,\",\n",
       " 308: ' Although she knows my days are past the best,',\n",
       " 309: ' As the perfumed tincture of the roses,',\n",
       " 310: ' I.',\n",
       " 311: ' Which in their wills count bad what I think good?',\n",
       " 312: ' Within the gentle closure of my breast,',\n",
       " 313: ' And you, but one, can every shadow lend.',\n",
       " 314: ' XXVI.',\n",
       " 315: ' A liquid prisoner pent in walls of glass,',\n",
       " 316: '   More flowers I noted, yet I none could see',\n",
       " 317: '   Lest the wise world should look into your moan',\n",
       " 318: ' I have no precious time at all to spend,',\n",
       " 319: '   Make thee another self, for love of me,',\n",
       " 320: ' How like a winter hath my absence been',\n",
       " 321: ' That thou hast her, it is not all my grief,',\n",
       " 322: '   To this I witness call the fools of time,',\n",
       " 323: ' Why write I still all one, ever the same,',\n",
       " 324: '   Because I would not dull you with my song.',\n",
       " 325: ' And do not drop in for an after-loss:',\n",
       " 326: \" And summer's lease hath all too short a date:\",\n",
       " 327: \" In thee thy summer, ere thou be distill'd:\",\n",
       " 328: \" Or whether doth my mind, being crown'd with you,\",\n",
       " 329: ' The wiry concord that mine ear confounds,',\n",
       " 330: ' When thou shalt be disposed to set me light,',\n",
       " 331: ' How many gazers mightst thou lead away,',\n",
       " 332: ' Authorizing thy trespass with compare,',\n",
       " 333: \" When I have seen by Time's fell hand defaced\",\n",
       " 334: ' They that have power to hurt and will do none,',\n",
       " 335: ' A vengeful canker eat him up to death.',\n",
       " 336: \" Are vanishing or vanish'd out of sight,\",\n",
       " 337: \" Unless my nerves were brass or hammer'd steel.\",\n",
       " 338: \" O, carve not with thy hours my love's fair brow,\",\n",
       " 339: ' Bound for the prize of all too precious you,',\n",
       " 340: ' For that which longer nurseth the disease,',\n",
       " 341: ' As I, not for myself, but for thee will;',\n",
       " 342: ' Thou art as fair in knowledge as in hue,',\n",
       " 343: ' Wound me not with thine eye but with thy tongue;',\n",
       " 344: ' And to be praised of ages yet to be.',\n",
       " 345: \" While he insults o'er dull and speechless tribes:\",\n",
       " 346: ' When lofty trees I see barren of leaves',\n",
       " 347: ' Or captain jewels in the carcanet.',\n",
       " 348: ' That god forbid that made me first your slave,',\n",
       " 349: ' O fearful meditation! where, alack,',\n",
       " 350: ' Some in their garments, though new-fangled ill,',\n",
       " 351: ' As victors of my silence cannot boast;',\n",
       " 352: ' I see descriptions of the fairest wights,',\n",
       " 353: '   That for thy right myself will bear all wrong.',\n",
       " 354: ' My heart doth plead that thou in him dost lie--',\n",
       " 355: \"   Mine be thy love and thy love's use their treasure.\",\n",
       " 356: ' And broils root out the work of masonry,',\n",
       " 357: ' Then in the number let me pass untold,',\n",
       " 358: ' LXVIII.',\n",
       " 359: '   His beauty shall in these black lines be seen,',\n",
       " 360: \" One will of mine, to make thy large 'Will' more.\",\n",
       " 361: ' The fairest votary took up that fire',\n",
       " 362: '   Since what he owes thee thou thyself dost pay.',\n",
       " 363: ' The sea all water, yet receives rain still',\n",
       " 364: ' If thou survive my well-contented day,',\n",
       " 365: ' My life, being made of four, with two alone',\n",
       " 366: \" Then, were not summer's distillation left,\",\n",
       " 367: ' But my five wits nor my five senses can',\n",
       " 368: \" Save that my soul's imaginary sight\",\n",
       " 369: ' Sweet love, renew thy force; be it not said',\n",
       " 370: ' With my extern the outward honouring,',\n",
       " 371: ' When in the least of them my life hath end.',\n",
       " 372: \" Then, in the blazon of sweet beauty's best,\",\n",
       " 373: \" The basest jewel will be well esteem'd,\",\n",
       " 374: ' Shall you pace forth; your praise shall still find room',\n",
       " 375: \" My thoughts and my discourse as madmen's are,\",\n",
       " 376: \"   Yet seem'd it winter still, and, you away,\",\n",
       " 377: ' O truant Muse, what shall be thy amends',\n",
       " 378: ' Or ten times happier, be it ten for one;',\n",
       " 379: ' For at a frown they in their glory die.',\n",
       " 380: ' Which I new pay as if not paid before.',\n",
       " 381: ' That by this separation I may give',\n",
       " 382: \"   Ere you were born was beauty's summer dead.\",\n",
       " 383: ' When I am sometime absent from thy heart,',\n",
       " 384: ' Nor praise the deep vermilion in the rose;',\n",
       " 385: ' Possessing or pursuing no delight,',\n",
       " 386: ' If Nature, sovereign mistress over wrack,',\n",
       " 387: '   Then thank him not for that which he doth say,',\n",
       " 388: ' Without thy help by me be borne alone.',\n",
       " 389: '   As he takes from you, I engraft you new.',\n",
       " 390: '   For that same groan doth put this in my mind;',\n",
       " 391: ' CXI.',\n",
       " 392: ' An eye more bright than theirs, less false in rolling,',\n",
       " 393: ' In the distraction of this madding fever!',\n",
       " 394: ' And guilded honour shamefully misplaced,',\n",
       " 395: '   Who art as black as hell, as dark as night.',\n",
       " 396: ' Can make you live yourself in eyes of men.',\n",
       " 397: ' Or, if it do, not from those lips of thine,',\n",
       " 398: ' To speak of that which gives thee all thy might?',\n",
       " 399: \" Devouring Time, blunt thou the lion's paws,\",\n",
       " 400: ' Thus can my love excuse the slow offence',\n",
       " 401: ' Then should I spur, though mounted on the wind;',\n",
       " 402: ' For canker vice the sweetest buds doth love,',\n",
       " 403: \" And perspective it is the painter's art.\",\n",
       " 404: ' When as thy love hath cast his utmost sum,',\n",
       " 405: ' Yet what of thee thy poet doth invent',\n",
       " 406: ' By unions married, do offend thine ear,',\n",
       " 407: ' But you shall shine more bright in these contents',\n",
       " 408: ' Till whatsoever star that guides my moving',\n",
       " 409: \" Then being ask'd where all thy beauty lies,\",\n",
       " 410: ' Farewell! thou art too dear for my possessing,',\n",
       " 411: \" They live unwoo'd and unrespected fade,\",\n",
       " 412: ' To stand in thy affairs, fall by thy side.',\n",
       " 413: \" Look, whom she best endow'd she gave the more;\",\n",
       " 414: '   Only my plague thus far I count my gain,',\n",
       " 415: ' When sometime lofty towers I see down-razed',\n",
       " 416: ' Plods dully on, to bear that weight in me,',\n",
       " 417: ' I think good thoughts whilst other write good words,',\n",
       " 418: ' XXXV.',\n",
       " 419: ' How with this rage shall beauty hold a plea,',\n",
       " 420: ' As a decrepit father takes delight',\n",
       " 421: ' But day doth daily draw my sorrows longer',\n",
       " 422: ' The rich proud cost of outworn buried age;',\n",
       " 423: ' O, lest your true love may seem false in this,',\n",
       " 424: ' Speak of my lameness, and I straight will halt,',\n",
       " 425: '   If thou turn back, and my loud crying still.',\n",
       " 426: \" What's new to speak, what new to register,\",\n",
       " 427: ' It is my love that keeps mine eye awake;',\n",
       " 428: \"   How like Eve's apple doth thy beauty grow,\",\n",
       " 429: '   Not blame your pleasure, be it ill or well.',\n",
       " 430: ' For whether beauty, birth, or wealth, or wit,',\n",
       " 431: ' Neither in inward worth nor outward fair,',\n",
       " 432: ' But that I hope some good conceit of thine',\n",
       " 433: ' I sigh the lack of many a thing I sought,',\n",
       " 434: '   Incapable of more, replete with you,',\n",
       " 435: ' Then need I not to fear the worst of wrongs,',\n",
       " 436: ' And live no more to shame nor me nor you.',\n",
       " 437: ' For that sweet odour which doth in it live.',\n",
       " 438: ' Just to the time, not with the time exchanged,',\n",
       " 439: \" And needy nothing trimm'd in jollity,\",\n",
       " 440: ' That I have hoisted sail to all the winds',\n",
       " 441: ' My saucy bark inferior far to his',\n",
       " 442: ' CXXXVIII.',\n",
       " 443: ' And you in Grecian tires are painted new:',\n",
       " 444: ' Looking with pretty ruth upon my pain.',\n",
       " 445: ' Which erst from heat did canopy the herd,',\n",
       " 446: \" Love's not Time's fool, though rosy lips and cheeks\",\n",
       " 447: \" And summer's green all girded up in sheaves\",\n",
       " 448: ' For if it see the rudest or gentlest sight,',\n",
       " 449: ' CXVIII.',\n",
       " 450: \" And your true rights be term'd a poet's rage\",\n",
       " 451: ' CXX.',\n",
       " 452: \" And each, though enemies to either's reign,\",\n",
       " 453: ' Even such a beauty as you master now.',\n",
       " 454: ' In singleness the parts that thou shouldst bear.',\n",
       " 455: ' So dost thou too, and therein dignified.',\n",
       " 456: ' Which shall above that idle rank remain',\n",
       " 457: ' And your sweet semblance to some other give.',\n",
       " 458: ' With lines and wrinkles; when his youthful morn',\n",
       " 459: ' Counting no old thing old, thou mine, I thine,',\n",
       " 460: ' What is your substance, whereof are you made,',\n",
       " 461: \" Hearing you praised, I say ''Tis so, 'tis true,'\",\n",
       " 462: ' To say, within thine own deep-sunken eyes,',\n",
       " 463: ' That thou in losing me shalt win much glory:',\n",
       " 464: \" And in mine own love's strength seem to decay,\",\n",
       " 465: ' XXIX.',\n",
       " 466: ' And in his thoughts of love doth share a part:',\n",
       " 467: ' He robs thee of and pays it thee again.',\n",
       " 468: ' For never-resting time leads summer on',\n",
       " 469: \" Drink up the monarch's plague, this flattery?\",\n",
       " 470: \" O,'tis the first; 'tis flattery in my seeing,\",\n",
       " 471: ' And folly doctor-like controlling skill,',\n",
       " 472: ' The forward violet thus did I chide:',\n",
       " 473: ' Be thou the tenth Muse, ten times more in worth',\n",
       " 474: \" By children's eyes her husband's shape in mind.\",\n",
       " 475: ' Alack, what poverty my Muse brings forth,',\n",
       " 476: '   That all the world besides methinks are dead.',\n",
       " 477: ' XCVIII.',\n",
       " 478: ' As tender nurse her babe from faring ill.',\n",
       " 479: ' Nor double penance, to correct correction.',\n",
       " 480: \" Those lips that Love's own hand did make\",\n",
       " 481: ' XLIX.',\n",
       " 482: ' And precious phrase by all the Muses filed.',\n",
       " 483: ' Nor can thy shame give physic to my grief;',\n",
       " 484: ' XVIII.',\n",
       " 485: \" Potions of eisel 'gainst my strong infection\",\n",
       " 486: ' That you were once unkind befriends me now,',\n",
       " 487: ' Yet be most proud of that which I compile,',\n",
       " 488: ' It is the star to every wandering bark,',\n",
       " 489: \"   O cunning Love! with tears thou keep'st me blind,\",\n",
       " 490: ' Which in thy breast doth live, as thine in me:',\n",
       " 491: ' The charter of thy worth gives thee releasing;',\n",
       " 492: ' Then, churls, their thoughts, although their eyes were kind,',\n",
       " 493: ' So, love, be thou; although to-day thou fill',\n",
       " 494: \" Within his bending sickle's compass come:\",\n",
       " 495: ' LXVII.',\n",
       " 496: ' Against my love shall be, as I am now,',\n",
       " 497: ' Who will believe my verse in time to come,',\n",
       " 498: ' To tie up envy evermore enlarged:',\n",
       " 499: \" Or being wreck'd, I am a worthless boat,\",\n",
       " 500: ' And therefore from my face she turns my foes,',\n",
       " 501: ' Desire is death, which physic did except.',\n",
       " 502: ' By oft predict that I in heaven find:',\n",
       " 503: ' My verse alone had all thy gentle grace,',\n",
       " 504: ' Too base of thee to be remembered.',\n",
       " 505: ' XXXII.',\n",
       " 506: ' Who all their parts of me to thee did give;',\n",
       " 507: ' Anon permit the basest clouds to ride',\n",
       " 508: ' Pitiful thrivers, in their gazing spent?',\n",
       " 509: \"   And Death once dead, there's no more dying then.\",\n",
       " 510: ' When others would give life and bring a tomb.',\n",
       " 511: ' From thee, the pleasure of the fleeting year!',\n",
       " 512: ' Thyself thy foe, to thy sweet self too cruel.',\n",
       " 513: \" And the just pleasure lost which is so deem'd\",\n",
       " 514: ' As thou goest onwards, still will pluck thee back,',\n",
       " 515: ' THE WELL-WISHING',\n",
       " 516: \" And therefore mayst without attaint o'erlook\",\n",
       " 517: ' When I was wont to greet it with my lays,',\n",
       " 518: '   And that is this, and this with thee remains.',\n",
       " 519: ' And found it in thy cheek; he can afford',\n",
       " 520: \" The age to come would say 'This poet lies:\",\n",
       " 521: \" But 'tis my heart that loves what they despise,\",\n",
       " 522: ' CV.',\n",
       " 523: \" When that mine eye is famish'd for a look,\",\n",
       " 524: ' How many a holy and obsequious tear',\n",
       " 525: '   These offices, so oft as thou wilt look,',\n",
       " 526: ' Drawn after you, you pattern of all those.',\n",
       " 527: \" How can it? O, how can Love's eye be true,\",\n",
       " 528: ' Against strange maladies a sovereign cure.',\n",
       " 529: ' Mine eyes have drawn thy shape, and thine for me',\n",
       " 530: ' Since all alike my songs and praises be',\n",
       " 531: ' [         ] these rebel powers that thee array;',\n",
       " 532: '   Him have I lost; thou hast both him and me:',\n",
       " 533: ' And trouble deal heaven with my bootless cries',\n",
       " 534: ' Art left the prey of every vulgar thief.',\n",
       " 535: ' To mar the subject that before was well?',\n",
       " 536: ' And gives thy pen both skill and argument.',\n",
       " 537: \" As subject to Time's love or to Time's hate,\",\n",
       " 538: ' Yet in these thoughts myself almost despising,',\n",
       " 539: ' When my love swears that she is made of truth',\n",
       " 540: ' And in abundance addeth to his store;',\n",
       " 541: \" With beauty's treasure, ere it be self-kill'd.\",\n",
       " 542: ' CXLIII.',\n",
       " 543: ' That they behold, and see not what they see?',\n",
       " 544: ' Lose all, and more, by paying too much rent,',\n",
       " 545: ' CXXXI.',\n",
       " 546: ' But mutual render, only me for thee.',\n",
       " 547: '   Thou mayst be false, and yet I know it not.',\n",
       " 548: '   And their gross painting might be better used',\n",
       " 549: '   For truth proves thievish for a prize so dear.',\n",
       " 550: '   For we, which now behold these present days,',\n",
       " 551: ' As from my soul, which in thy breast doth lie:',\n",
       " 552: ' And for that sorrow which I then did feel',\n",
       " 553: ' If Time have any wrinkle graven there;',\n",
       " 554: \" That heavy Saturn laugh'd and leap'd with him.\",\n",
       " 555: '   And mock you with me after I am gone.',\n",
       " 556: ' Or as the wardrobe which the robe doth hide,',\n",
       " 557: ' If thou wouldst use the strength of all thy state!',\n",
       " 558: \"   And saved my life, saying 'not you.'\",\n",
       " 559: ' Harsh featureless and rude, barrenly perish:',\n",
       " 560: ' Against this coming end you should prepare,',\n",
       " 561: \"   Or, if they sing, 'tis with so dull a cheer\",\n",
       " 562: ' For you in me can nothing worthy prove;',\n",
       " 563: ' Where thou art forced to break a twofold truth,',\n",
       " 564: ' The bounteous largess given thee to give?',\n",
       " 565: ' Two loves I have of comfort and despair,',\n",
       " 566: ' To dry the rain on my storm-beaten face,',\n",
       " 567: ' To march in ranks of better equipage:',\n",
       " 568: ' What freezings have I felt, what dark days seen!',\n",
       " 569: ' Thy pyramids built up with newer might',\n",
       " 570: ' O, change thy thought, that I may change my mind!',\n",
       " 571: ' If snow be white, why then her breasts are dun;',\n",
       " 572: ' Strikes each in each by mutual ordering,',\n",
       " 573: ' In sequent toil all forwards do contend.',\n",
       " 574: ' And make the earth devour her own sweet brood;',\n",
       " 575: '   I am to wait, though waiting so be hell;',\n",
       " 576: ' Past cure I am, now reason is past care,',\n",
       " 577: \"   If some suspect of ill mask'd not thy show,\",\n",
       " 578: ' When I consider every thing that grows',\n",
       " 579: \" Thou usurer, that put'st forth all to use,\",\n",
       " 580: ' For when these quicker elements are gone',\n",
       " 581: ' XIV.',\n",
       " 582: '   But if the while I think on thee, dear friend,',\n",
       " 583: ' The spirit of love with a perpetual dullness.',\n",
       " 584: '   Save thou, my rose; in it thou art my all.',\n",
       " 585: ' For nimble thought can jump both sea and land',\n",
       " 586: \" Sinks down to death, oppress'd with melancholy;\",\n",
       " 587: ' Which heavily he answers with a groan,',\n",
       " 588: ' Mad in pursuit and in possession so;',\n",
       " 589: ' O no! it is an ever-fixed mark',\n",
       " 590: ' In so profound abysm I throw all care',\n",
       " 591: ' More sharp to me than spurring to his side;',\n",
       " 592: ' Look, what thy memory can not contain',\n",
       " 593: ' XLVI.',\n",
       " 594: \" Could make me any summer's story tell,\",\n",
       " 595: ' Speaking of worth, what worth in you doth grow.',\n",
       " 596: ' If all were minded so, the times should cease',\n",
       " 597: \" Never believe, though in my nature reign'd\",\n",
       " 598: ' XLVIII.',\n",
       " 599: '   All this the world well knows; yet none knows well',\n",
       " 600: ' And this my hand against myself uprear,',\n",
       " 601: \" O, that our night of woe might have remember'd\",\n",
       " 602: ' Now stand you on the top of happy hours,',\n",
       " 603: \" I must attend time's leisure with my moan,\",\n",
       " 604: ' O, blame me not, if I no more can write!',\n",
       " 605: ' If thy soul cheque thee that I come so near,',\n",
       " 606: ' Of different flowers in odour and in hue',\n",
       " 607: \" But why of two oaths' breach do I accuse thee,\",\n",
       " 608: ' CXXXIV.',\n",
       " 609: ' Say that thou didst forsake me for some fault,',\n",
       " 610: ' And yet it may be said I loved her dearly;',\n",
       " 611: ' The ills that were not, grew to faults assured',\n",
       " 612: '   Though you do any thing, he thinks no ill.',\n",
       " 613: ' That tongue that tells the story of thy days,',\n",
       " 614: ' Thy bosom is endeared with all hearts,',\n",
       " 615: ' And you in every blessed shape we know.',\n",
       " 616: ' And thou shalt find it merits not reproving;',\n",
       " 617: ' Since, seldom coming, in the long year set,',\n",
       " 618: ' That on the ashes of his youth doth lie,',\n",
       " 619: ' LX.',\n",
       " 620: ' CXXIV.',\n",
       " 621: ' To take a new acquaintance of thy mind.',\n",
       " 622: ' Without accusing you of injury.',\n",
       " 623: ' He lends thee virtue and he stole that word',\n",
       " 624: ' If like a lamb he could his looks translate!',\n",
       " 625: ' XV.',\n",
       " 626: ' And of this book this learning mayst thou taste.',\n",
       " 627: '   You should live twice; in it and in my rhyme.',\n",
       " 628: ' Sets you most rich in youth before my sight,',\n",
       " 629: \" Beggar'd of blood to blush through lively veins?\",\n",
       " 630: ' Unthrifty loveliness, why dost thou spend',\n",
       " 631: ' By seeing farther than the eye hath shown.',\n",
       " 632: \" Enjoy'd no sooner but despised straight,\",\n",
       " 633: ' For it depends upon that love of thine.',\n",
       " 634: ' Lo! in the orient when the gracious light',\n",
       " 635: '   Or, if they sleep, thy picture in my sight',\n",
       " 636: ' LXXXI.',\n",
       " 637: ' And, constant stars, in them I read such art',\n",
       " 638: ' To-morrow see again, and do not kill',\n",
       " 639: ' Hath put a spirit of youth in every thing,',\n",
       " 640: ' My glass shall not persuade me I am old,',\n",
       " 641: \"   'Fair, kind, and true,' have often lived alone,\",\n",
       " 642: ' Being your vassal, bound to stay your leisure!',\n",
       " 643: ' Pointing to each his thunder, rain and wind,',\n",
       " 644: '   To give away yourself keeps yourself still,',\n",
       " 645: ' Which bounteous gift thou shouldst in bounty cherish:',\n",
       " 646: \" 'Fair, kind and true' is all my argument,\",\n",
       " 647: ' For they in thee a thousand errors note;',\n",
       " 648: ' That Time will come and take my love away.',\n",
       " 649: ' Which, like a jewel hung in ghastly night,',\n",
       " 650: '   Yet do not so; but since I am near slain,',\n",
       " 651: ' I may be straight, though they themselves be bevel;',\n",
       " 652: ' I never saw that you did painting need',\n",
       " 653: ' Commit to these waste blanks, and thou shalt find',\n",
       " 654: '   Drugs poison him that so fell sick of you.',\n",
       " 655: ' Advantage on the kingdom of the shore,',\n",
       " 656: \" Of faults conceal'd, wherein I am attainted,\",\n",
       " 657: ' But, for his theft, in pride of all his growth',\n",
       " 658: ' Nor can I fortune to brief minutes tell,',\n",
       " 659: \" And often is his gold complexion dimm'd;\",\n",
       " 660: ' Whose influence is thine and born of thee:',\n",
       " 661: \" And 'Will' to boot, and 'Will' in overplus;\",\n",
       " 662: \" But as the marigold at the sun's eye,\",\n",
       " 663: ' Makes black night beauteous and her old face new.',\n",
       " 664: ' Describe Adonis, and the counterfeit',\n",
       " 665: \" Among a number one is reckon'd none:\",\n",
       " 666: ' But when I sleep, in dreams they look on thee,',\n",
       " 667: \" Which this, Time's pencil, or my pupil pen,\",\n",
       " 668: ' CXXXVII.',\n",
       " 669: \" Yourself again after yourself's decease,\",\n",
       " 670: ' CXXXIII.',\n",
       " 671: ' When in dead night thy fair imperfect shade',\n",
       " 672: \" And when a woman woos, what woman's son\",\n",
       " 673: \" Then let not winter's ragged hand deface\",\n",
       " 674: ' XXII.',\n",
       " 675: ' To be so tickled, they would change their state',\n",
       " 676: \" O'er whom thy fingers walk with gentle gait,\",\n",
       " 677: '   Then may I dare to boast how I do love thee;',\n",
       " 678: ' And art made tongue-tied by authority,',\n",
       " 679: ' Of their fair subject, blessing every book',\n",
       " 680: ' As an unperfect actor on the stage',\n",
       " 681: ' And look upon myself and curse my fate,',\n",
       " 682: \" Of others' voices, that my adder's sense\",\n",
       " 683: '   Yet so they mourn, becoming of their woe,',\n",
       " 684: ' In him those holy antique hours are seen,',\n",
       " 685: ' Book both my wilfulness and errors down',\n",
       " 686: ' Self so self-loving were iniquity.',\n",
       " 687: ' No love, my love, that thou mayst true love call;',\n",
       " 688: ' Had, having, and in quest to have, extreme;',\n",
       " 689: ' Which time and thoughts so sweetly doth deceive,',\n",
       " 690: ' Be where you list, your charter is so strong',\n",
       " 691: ' To thy sweet will making addition thus.',\n",
       " 692: ' Or I shall live your epitaph to make,',\n",
       " 693: ' Some say thy fault is youth, some wantonness;',\n",
       " 694: ' Till each to razed oblivion yield his part',\n",
       " 695: ' And fortify yourself in your decay',\n",
       " 696: '   All men are bad, and in their badness reign.',\n",
       " 697: ' For compound sweet forgoing simple savour,',\n",
       " 698: ' Have I not seen dwellers on form and favour',\n",
       " 699: ' But when from highmost pitch, with weary car,',\n",
       " 700: ' Thy proud hearts slave and vassal wretch to be:',\n",
       " 701: ' Hung with the trophies of my lovers gone,',\n",
       " 702: '   Then happy I, that love and am beloved',\n",
       " 703: ' O, for my sake do you with Fortune chide,',\n",
       " 704: ' For if I should despair, I should grow mad,',\n",
       " 705: \" He learn'd but surety-like to write for me\",\n",
       " 706: ' And keep my drooping eyelids open wide,',\n",
       " 707: ' Although in me each part will be forgotten.',\n",
       " 708: ' Sweet thief, whence didst thou steal thy sweet that smells,',\n",
       " 709: '   So true a fool is love that in your will,',\n",
       " 710: ' But heaven in thy creation did decree',\n",
       " 711: '   And all in war with Time for love of you,',\n",
       " 712: ' Injurious distance should not stop my way;',\n",
       " 713: ' Points on me graciously with fair aspect',\n",
       " 714: ' Why didst thou promise such a beauteous day,',\n",
       " 715: \" I see their antique pen would have express'd\",\n",
       " 716: ' Leaving thee living in posterity?',\n",
       " 717: ' Thou wilt restore, to be my comfort still:',\n",
       " 718: ' Or from their proud lap pluck them where they grew;',\n",
       " 719: ' They look into the beauty of thy mind,',\n",
       " 720: '   Since my appeal says I did strive to prove',\n",
       " 721: \" And though they be outstripp'd by every pen,\",\n",
       " 722: \" For shame! deny that thou bear'st love to any,\",\n",
       " 723: ' Or say with princes if it shall go well,',\n",
       " 724: ' For bending all my loving thoughts on thee,',\n",
       " 725: ' CVI.',\n",
       " 726: ' CXXXVI.',\n",
       " 727: ' Which to repair should be thy chief desire.',\n",
       " 728: ' No bitterness that I will bitter think,',\n",
       " 729: \" The imprison'd absence of your liberty;\",\n",
       " 730: ' Beyond all date, even to eternity;',\n",
       " 731: \" Who hast by waning grown, and therein show'st\",\n",
       " 732: \" And all those beauties whereof now he's king\",\n",
       " 733: ' So should that beauty which you hold in lease',\n",
       " 734: ' XXXVI.',\n",
       " 735: \"   When tyrants' crests and tombs of brass are spent.\",\n",
       " 736: ' Shifts but his place, for still the world enjoys it;',\n",
       " 737: ' Love is too young to know what conscience is;',\n",
       " 738: ' Nor thou with public kindness honour me,',\n",
       " 739: '   She carved thee for her seal, and meant thereby',\n",
       " 740: ' And age in love loves not to have years told:',\n",
       " 741: ' Who lets so fair a house fall to decay,',\n",
       " 742: ' To see his active child do deeds of youth,',\n",
       " 743: ' None else to me, nor I to none alive,',\n",
       " 744: ' When swift extremity can seem but slow?',\n",
       " 745: ' Mine own self-love quite contrary I read;',\n",
       " 746: \" Dost hold Time's fickle glass, his sickle, hour;\",\n",
       " 747: ' Whose fresh repair if now thou not renewest,',\n",
       " 748: \" Whose strength's abundance weakens his own heart.\",\n",
       " 749: ' Your name from hence immortal life shall have,',\n",
       " 750: ' Doth follow night, who like a fiend',\n",
       " 751: \" Ah, do not, when my heart hath 'scoped this sorrow,\",\n",
       " 752: \" Three April perfumes in three hot Junes burn'd,\",\n",
       " 753: ' Not mine own fears, nor the prophetic soul',\n",
       " 754: \" But at my mistress' eye Love's brand new-fired,\",\n",
       " 755: \" Myself I'll forfeit, so that other mine\",\n",
       " 756: \" Alas, why, fearing of time's tyranny,\",\n",
       " 757: \"   But heavy tears, badges of either's woe.\",\n",
       " 758: '   Pity me then, dear friend, and I assure ye',\n",
       " 759: \" A maid of Dian's this advantage found,\",\n",
       " 760: ' Whether we are mended, or whether better they,',\n",
       " 761: \" When sparkling stars twire not thou gild'st the even.\",\n",
       " 762: ' Upon those boughs which shake against the cold,',\n",
       " 763: '   The pain be mine, but thine shall be the praise.',\n",
       " 764: ' And steal dead seeing of his living hue?',\n",
       " 765: ' The mountain or the sea, the day or night,',\n",
       " 766: ' Hath been before, how are our brains beguiled,',\n",
       " 767: ' So thou through windows of thine age shall see',\n",
       " 768: ' But love, for love, thus shall excuse my jade;',\n",
       " 769: ' I do forgive thy robbery, gentle thief,',\n",
       " 770: \" On Helen's cheek all art of beauty set,\",\n",
       " 771: ' And therefore art enforced to seek anew',\n",
       " 772: ' CXLIX.',\n",
       " 773: \" Therefore desire of perfect'st love being made,\",\n",
       " 774: '   No want of conscience hold it that I call',\n",
       " 775: ' To new-found methods and to compounds strange?',\n",
       " 776: '   But since he died and poets better prove,',\n",
       " 777: \"   And in our faults by lies we flatter'd be.\",\n",
       " 778: ' And do so, love; yet when they have devised',\n",
       " 779: ' So thou be good, slander doth but approve',\n",
       " 780: ' Who, moving others, are themselves as stone,',\n",
       " 781: ' Than this rich praise, that you alone are you?',\n",
       " 782: ' No more be grieved at that which thou hast done:',\n",
       " 783: '   Such is my love, to thee I so belong,',\n",
       " 784: '   And other strains of woe, which now seem woe,',\n",
       " 785: ' That censures falsely what they see aright?',\n",
       " 786: ' And, tender churl, makest waste in niggarding.',\n",
       " 787: \" One of her feather'd creatures broke away,\",\n",
       " 788: ' So all my best is dressing old words new,',\n",
       " 789: '   And her quietus is to render thee.',\n",
       " 790: \" Against confounding age's cruel knife,\",\n",
       " 791: ' I found, or thought I found, you did exceed',\n",
       " 792: ' To win me soon to hell, my female evil',\n",
       " 793: \" 'Tis better to be vile than vile esteem'd,\",\n",
       " 794: \"   And to this false plague are they now transferr'd.\",\n",
       " 795: ' A dearer birth than this his love had brought,',\n",
       " 796: ' And by a part of all thy glory live.',\n",
       " 797: ' O, therefore, love, be of thyself so wary',\n",
       " 798: ' O, if, I say, you look upon this verse',\n",
       " 799: '   So is my love still telling what is told.',\n",
       " 800: ' Which by and by black night doth take away,',\n",
       " 801: '   Yet him for this my love no whit disdaineth;',\n",
       " 802: ' What hast thou then more than thou hadst before?',\n",
       " 803: ' As if by some instinct the wretch did know',\n",
       " 804: '   Then do thy office, Muse; I teach thee how',\n",
       " 805: \" With my love's picture then my eye doth feast\",\n",
       " 806: ' Mine own true love that doth my rest defeat,',\n",
       " 807: ' The roses fearfully on thorns did stand,',\n",
       " 808: \" And whether that my angel be turn'd fiend\",\n",
       " 809: ' The other two, slight air and purging fire,',\n",
       " 810: ' And every fair with his fair doth rehearse',\n",
       " 811: ' The earth can have but earth, which is his due;',\n",
       " 812: ' The expense of spirit in a waste of shame',\n",
       " 813: ' And I myself am mortgaged to thy will,',\n",
       " 814: \" Thou by thy dial's shady stealth mayst know\",\n",
       " 815: ' Askance and strangely: but, by all above,',\n",
       " 816: ' No shape so true, no truth of such account;',\n",
       " 817: ' Who is it that says most? which can say more',\n",
       " 818: \" The perfect ceremony of love's rite,\",\n",
       " 819: ' Which parts the shore, where two contracted new',\n",
       " 820: ' And I am still with them and they with thee;',\n",
       " 821: \"   'Tis thee, myself, that for myself I praise,\",\n",
       " 822: ' May time disgrace and wretched minutes kill.',\n",
       " 823: ' Such seems your beauty still. Three winters cold',\n",
       " 824: ' That over-goes my blunt invention quite,',\n",
       " 825: ' But wherefore says she not she is unjust?',\n",
       " 826: \" Let not my love be call'd idolatry,\",\n",
       " 827: ' Presents thy shadow to my sightless view,',\n",
       " 828: ' For thou not farther than my thoughts canst move,',\n",
       " 829: '   That every tongue says beauty should look so.',\n",
       " 830: ' To every hymn that able spirit affords',\n",
       " 831: '   But why thy odour matcheth not thy show,',\n",
       " 832: '   O, sure I am, the wits of former days',\n",
       " 833: ' Dulling my lines and doing me disgrace.',\n",
       " 834: \" By chance or nature's changing course untrimm'd;\",\n",
       " 835: ' And in my will no fair acceptance shine?',\n",
       " 836: ' Nor need I tallies thy dear love to score;',\n",
       " 837: '   But, love, hate on, for now I know thy mind;',\n",
       " 838: ' To find out shames and idle hours in me,',\n",
       " 839: '   Or gluttoning on all, or all away.',\n",
       " 840: \" Why of eyes' falsehood hast thou forged hooks,\",\n",
       " 841: ' Love alters not with his brief hours and weeks,',\n",
       " 842: '   Mine ransoms yours, and yours must ransom me.',\n",
       " 843: ' Like feeble age, he reeleth from the day,',\n",
       " 844: \" And yet this time removed was summer's time,\",\n",
       " 845: ' O, what a happy title do I find,',\n",
       " 846: \" For well thou know'st to my dear doting heart\",\n",
       " 847: ' Or heart in love with sighs himself doth smother,',\n",
       " 848: ' Who even but now come back again, assured',\n",
       " 849: ' Of him, myself, and thee, I am forsaken;',\n",
       " 850: ' Tempteth my better angel from my side,',\n",
       " 851: ' And beauty making beautiful old rhyme',\n",
       " 852: ' And, proud of many, lives upon his gains.',\n",
       " 853: ' And frantic-mad with evermore unrest;',\n",
       " 854: ' As fast as objects to his beams assemble?',\n",
       " 855: ' To mourn for me, since mourning doth thee grace,',\n",
       " 856: ' The one doth shadow of your beauty show,',\n",
       " 857: ' To entertain the time with thoughts of love,',\n",
       " 858: ' And for this sin there is no remedy,',\n",
       " 859: ' The teeming autumn, big with rich increase,',\n",
       " 860: ' Do not so much as my poor name rehearse.',\n",
       " 861: ' yet mortal looks adore his beauty still,',\n",
       " 862: ' For through the painter must you see his skill,',\n",
       " 863: ' As those whose beauties proudly make them cruel;',\n",
       " 864: ' Since brass, nor stone, nor earth, nor boundless sea,',\n",
       " 865: ' As fast as thou shalt wane, so fast thou growest',\n",
       " 866: ' Before the golden tresses of the dead,',\n",
       " 867: \" And thither hied, a sad distemper'd guest,\",\n",
       " 868: '   Their images I loved I view in thee,',\n",
       " 869: \" Weeds among weeds, or flowers with flowers gather'd.\",\n",
       " 870: ' O, give thyself the thanks, if aught in me',\n",
       " 871: ' No longer mourn for me when I am dead',\n",
       " 872: ' As interest of the dead, which now appear',\n",
       " 873: ' So do our minutes hasten to their end;',\n",
       " 874: ' Of my dull bearer when from thee I speed:',\n",
       " 875: ' Let me not to the marriage of true minds',\n",
       " 876: ' Or to thyself at least kind-hearted prove:',\n",
       " 877: ' CXLVI.',\n",
       " 878: ' Or who is he so fond will be the tomb',\n",
       " 879: ' From thy behavior; beauty doth he give',\n",
       " 880: ' To me, fair friend, you never can be old,',\n",
       " 881: ' When I have seen the hungry ocean gain',\n",
       " 882: ' Unmoved, cold, and to temptation slow,',\n",
       " 883: ' Then how, when nature calls thee to be gone,',\n",
       " 884: ' I grant I never saw a goddess go;',\n",
       " 885: ' Nor his own vision holds what it doth catch:',\n",
       " 886: ' The ornament of beauty is suspect,',\n",
       " 887: ' Or state itself confounded to decay;',\n",
       " 888: ' Gilding pale streams with heavenly alchemy;',\n",
       " 889: \" Then better'd that the world may see my pleasure;\",\n",
       " 890: ' Bring me within the level of your frown,',\n",
       " 891: ' To me are nothing novel, nothing strange;',\n",
       " 892: \" Past reason hated, as a swallow'd bait\",\n",
       " 893: ' CXXVII.',\n",
       " 894: \" While thou dost breathe, that pour'st into my verse\",\n",
       " 895: ' Who heaven itself for ornament doth use',\n",
       " 896: ' O, then vouchsafe me but this loving thought:',\n",
       " 897: '   Where breath most breathes, even in the mouths of men.',\n",
       " 898: ' Making his style admired every where.',\n",
       " 899: ' That due to thee which thou deservest alone.',\n",
       " 900: ' Not making worse what nature made so clear,',\n",
       " 901: ' Is writ in moods and frowns and wrinkles strange,',\n",
       " 902: \" In loving thee thou know'st I am forsworn,\",\n",
       " 903: ' And in themselves their pride lies buried,',\n",
       " 904: ' Die to themselves. Sweet roses do not so;',\n",
       " 905: \" In many's looks the false heart's history\",\n",
       " 906: ' Therefore my verse to constancy confined,',\n",
       " 907: ' For I have sworn deep oaths of thy deep kindness,',\n",
       " 908: ' Against that time when thou shalt strangely pass',\n",
       " 909: ' To linger out a purposed overthrow.',\n",
       " 910: \"   Thy end is truth's and beauty's doom and date.\",\n",
       " 911: ' And almost thence my nature is subdued',\n",
       " 912: ' In things of great receipt with ease we prove',\n",
       " 913: ' I do believe her, though I know she lies,',\n",
       " 914: '   Give them thy fingers, me thy lips to kiss.',\n",
       " 915: ' Even those that said I could not love you dearer:',\n",
       " 916: \" Like widow'd wombs after their lords' decease:\",\n",
       " 917: ' With all triumphant splendor on my brow;',\n",
       " 918: ' C.',\n",
       " 919: \" And barren rage of death's eternal cold?\",\n",
       " 920: ' Than when it hath my added praise beside!',\n",
       " 921: ' Disdains the tillage of thy husbandry?',\n",
       " 922: ' Hang on such thorns and play as wantonly',\n",
       " 923: \" That's for thyself to breed another thee,\",\n",
       " 924: '   Lest eyes well-seeing thy foul faults should find.',\n",
       " 925: \" When, in disgrace with fortune and men's eyes,\",\n",
       " 926: ' Comes home again, on better judgment making.',\n",
       " 927: ' The boy for trial needs would touch my breast;',\n",
       " 928: \" For precious friends hid in death's dateless night,\",\n",
       " 929: ' But, rising at thy name, doth point out thee',\n",
       " 930: '   All days are nights to see till I see thee,',\n",
       " 931: ' Whilst I, whom fortune of such triumph bars,',\n",
       " 932: ' That heals the wound and cures not the disgrace:',\n",
       " 933: ' I summon up remembrance of things past,',\n",
       " 934: \" One on another's neck, do witness bear\",\n",
       " 935: ' And dost him grace when clouds do blot the heaven:',\n",
       " 936: \" The coward conquest of a wretch's knife,\",\n",
       " 937: ' Supposed as forfeit to a confined doom.',\n",
       " 938: ' The wrinkles which thy glass will truly show',\n",
       " 939: ' If thou wilt leave me, do not leave me last,',\n",
       " 940: ' Thyself away art resent still with me;',\n",
       " 941: ' I grant thou wert not married to my Muse',\n",
       " 942: ' Where wasteful Time debateth with Decay,',\n",
       " 943: \"   Being had, to triumph, being lack'd, to hope.\",\n",
       " 944: ' Upon the hours and times of your desire?',\n",
       " 945: \" As those gold candles fix'd in heaven's air:\",\n",
       " 946: '   My love shall in my verse ever live young.',\n",
       " 947: ' From hands of falsehood, in sure wards of trust!',\n",
       " 948: ' CII.',\n",
       " 949: ' Oaths of thy love, thy truth, thy constancy,',\n",
       " 950: ' And nothing stands but for his scythe to mow:',\n",
       " 951: '   And yet to times in hope my verse shall stand,',\n",
       " 952: ' And patience, tame to sufferance, bide each cheque,',\n",
       " 953: ' In faith, I do not love thee with mine eyes,',\n",
       " 954: ' When forty winters shall beseige thy brow,',\n",
       " 955: \" Distill'd from limbecks foul as hell within,\",\n",
       " 956: ' Since I left you, mine eye is in my mind;',\n",
       " 957: \" That heaven's air in this huge rondure hems.\",\n",
       " 958: ' XCVI.',\n",
       " 959: ' Though to itself it only live and die,',\n",
       " 960: ' To be diseased ere that there was true needing.',\n",
       " 961: \" Or if it were, it bore not beauty's name;\",\n",
       " 962: ' But if that flower with base infection meet,',\n",
       " 963: \" How would thy shadow's form form happy show\",\n",
       " 964: \" And having climb'd the steep-up heavenly hill,\",\n",
       " 965: ' Robbing no old to dress his beauty new;',\n",
       " 966: ' Hast thou, the master-mistress of my passion;',\n",
       " 967: ' The better angel is a man right fair,',\n",
       " 968: \" They rightly do inherit heaven's graces\",\n",
       " 969: ' That better is by evil still made better;',\n",
       " 970: ' But then begins a journey in my head,',\n",
       " 971: ' Love is my sin and thy dear virtue hate,',\n",
       " 972: ' Who plead for love and look for recompense',\n",
       " 973: \" To-morrow sharpen'd in his former might:\",\n",
       " 974: ' Resembling strong youth in his middle age,',\n",
       " 975: ' Whereto all bonds do tie me day by day;',\n",
       " 976: '   Wretched in this alone, that thou mayst take',\n",
       " 977: ' Save where thou art not, though I feel thou art,',\n",
       " 978: ' Those hours, that with gentle work did frame',\n",
       " 979: ' Ah! yet doth beauty, like a dial-hand,',\n",
       " 980: '   if thy sweet virtue answer not thy show!',\n",
       " 981: '   Lilies that fester smell far worse than weeds.',\n",
       " 982: ' Who lead thee in their riot even there',\n",
       " 983: ' Can bring him to his sweet up-locked treasure,',\n",
       " 984: ' Her pretty looks have been mine enemies,',\n",
       " 985: ' For to thy sensual fault I bring in sense--',\n",
       " 986: \" O'ercharged with burden of mine own love's might.\",\n",
       " 987: '   For fear of which, hear this, thou age unbred;',\n",
       " 988: ' Shall will in others seem right gracious,',\n",
       " 989: ' Make sweet some vial; treasure thou some place',\n",
       " 990: ' LXXIV.',\n",
       " 991: \"   Yet this shall I ne'er know, but live in doubt,\",\n",
       " 992: \" Nay, if thou lour'st on me, do I not spend\",\n",
       " 993: ' With eager compounds we our palate urge,',\n",
       " 994: ' No, neither he, nor his compeers by night',\n",
       " 995: \" And 'gainst myself a lawful plea commence:\",\n",
       " 996: \" Eat up thy charge? is this thy body's end?\",\n",
       " 997: ' Than think that we before have heard them told.',\n",
       " 998: \" Fairing the foul with art's false borrow'd face,\",\n",
       " 999: ' Now this ill-wresting world is grown so bad,',\n",
       " ...}"
      ]
     },
     "execution_count": 77,
     "metadata": {},
     "output_type": "execute_result"
    }
   ],
   "source": [
    "indx_to_char"
   ]
  },
  {
   "cell_type": "markdown",
   "metadata": {},
   "source": [
    "# Text processing\n",
    "\n",
    "First we need next to collect a \"vocabulary\" of all unique tokens i.e. unique characters. We can then encode inputs as a sequence of character ids."
   ]
  },
  {
   "cell_type": "code",
   "execution_count": 78,
   "metadata": {},
   "outputs": [
    {
     "name": "stdout",
     "output_type": "stream",
     "text": [
      "{'M', 'Y', 'n', 'g', 'P', '?', 'B', 'V', 'f', 'S', 'e', 't', 'i', 'z', ';', 'c', 'd', 'u', 'k', 'G', '!', 'R', 'o', 'j', 'E', ':', 'b', 'r', 'W', 'T', 'F', 'A', 'C', 'D', 'a', 'y', 'q', 'm', 'H', 'I', '[', 'K', ']', 's', \"'\", 'v', 'l', 'p', 'L', '.', 'N', 'X', 'h', 'x', 'O', 'U', 'w', ' ', ',', '\\t', '-', 'J'}\n",
      "num_tokens =  62\n"
     ]
    }
   ],
   "source": [
    "#all unique characters go here\n",
    "\n",
    "\n",
    "#tokens = <all unique characters in the dataset>\n",
    "\n",
    "def split(word):\n",
    "    char_list = []\n",
    "    for char in word:\n",
    "        char_list.append(char)\n",
    "#         if char != ' ':\n",
    "#             char_list.append(char)\n",
    "    return char_list\n",
    "\n",
    "tokens = []\n",
    "for line in lines:\n",
    "    char_list = split(line)\n",
    "    for char in char_list:\n",
    "        tokens.append(char)\n",
    "\n",
    "tokens = set(tokens)\n",
    "\n",
    "print(tokens)\n",
    "\n",
    "tokens = list(tokens)\n",
    "\n",
    "num_tokens = len(tokens)\n",
    "print ('num_tokens = ', num_tokens)\n",
    "\n",
    "#assert 50 < num_tokens < 60, \"Names should contain within 50 and 60 unique tokens depending on encoding\""
   ]
  },
  {
   "cell_type": "markdown",
   "metadata": {},
   "source": [
    "### Convert characters to integers\n",
    "\n",
    "Torch is built for crunching numbers, not strings. \n",
    "To train our neural network, we'll need to replace characters with their indices in tokens list.\n",
    "\n",
    "Let's compose a dictionary that does this mapping."
   ]
  },
  {
   "cell_type": "code",
   "execution_count": 82,
   "metadata": {},
   "outputs": [],
   "source": [
    "#token_to_id = <dictionary of symbol -> its identifier (index in tokens list)>\n",
    "token_to_id = {ch:i for i, ch in enumerate(tokens)}\n",
    "id_to_token = {i:ch for i, ch in enumerate(tokens)}\n"
   ]
  },
  {
   "cell_type": "code",
   "execution_count": 8,
   "metadata": {},
   "outputs": [
    {
     "name": "stdout",
     "output_type": "stream",
     "text": [
      "Seems alright!\n"
     ]
    }
   ],
   "source": [
    "assert len(tokens) == len(token_to_id), \"dictionaries must have same size\"\n",
    "\n",
    "for i in range(num_tokens):\n",
    "    assert token_to_id[tokens[i]] == i, \"token identifier must be it's position in tokens list\"\n",
    "\n",
    "print(\"Seems alright!\")"
   ]
  },
  {
   "cell_type": "code",
   "execution_count": 9,
   "metadata": {},
   "outputs": [],
   "source": [
    "def to_matrix(lines, max_len=None, pad=token_to_id[' '], dtype='int32', batch_first = True):\n",
    "    \"\"\"Casts a list of names into rnn-digestable matrix\"\"\"\n",
    "    \n",
    "    max_len = max_len or max(map(len, lines))\n",
    "    lines_ix = np.zeros([len(lines), max_len], dtype) + pad\n",
    "\n",
    "    for i in range(len(lines)):\n",
    "        line_ix = [token_to_id[c] for c in lines[i]]\n",
    "        lines_ix[i, :len(line_ix)] = line_ix\n",
    "        \n",
    "    if not batch_first: # convert [batch, time] into [time, batch]\n",
    "        lines_ix = np.transpose(lines_ix)\n",
    "\n",
    "    return lines_ix"
   ]
  },
  {
   "cell_type": "code",
   "execution_count": 10,
   "metadata": {},
   "outputs": [
    {
     "name": "stdout",
     "output_type": "stream",
     "text": [
      " \tSONNETS\n",
      " Book both my wilfulness and errors down\n",
      "[[57 59  9 54 50 50 24 29  9 57 57 57 57 57 57 57 57 57 57 57 57 57 57 57\n",
      "  57 57 57 57 57 57 57 57 57 57 57 57 57 57 57 57]\n",
      " [57  6 22 22 18 57 26 22 11 52 57 37 35 57 56 12 46  8 17 46  2 10 43 43\n",
      "  57 34  2 16 57 10 27 27 22 27 43 57 16 22 56  2]]\n"
     ]
    }
   ],
   "source": [
    "#Example: cast 4 random names to matrices, pad with zeros\n",
    "print('\\n'.join(lines[::2000]))\n",
    "print(to_matrix(lines[::2000]))"
   ]
  },
  {
   "cell_type": "markdown",
   "metadata": {},
   "source": [
    "## RNN from Scratch"
   ]
  },
  {
   "cell_type": "markdown",
   "metadata": {},
   "source": [
    "- Why do you sample and not take the biggest prob?"
   ]
  },
  {
   "cell_type": "markdown",
   "metadata": {},
   "source": [
    "<img src=\"IMG_6768.jpg\" width=500>"
   ]
  },
  {
   "cell_type": "markdown",
   "metadata": {},
   "source": [
    "<img src=\"./IMG_6769.jpg\" width=500>"
   ]
  },
  {
   "cell_type": "markdown",
   "metadata": {},
   "source": [
    "<img src=\"IMG_6770.jpg\" width=500>"
   ]
  },
  {
   "cell_type": "markdown",
   "metadata": {},
   "source": [
    "# Recurrent neural network\n",
    "\n",
    "We can rewrite recurrent neural network as a consecutive application of dense layer to input $x_t$ and previous rnn state $h_t$. This is exactly what we're gonna do now.\n",
    "<img src=\"./rnn.png\" width=480>\n",
    "\n",
    "Since we're training a language model, there should also be:\n",
    "* An embedding layer that converts character id x_t to a vector.\n",
    "* An output layer that predicts probabilities of next phoneme"
   ]
  },
  {
   "cell_type": "code",
   "execution_count": 16,
   "metadata": {},
   "outputs": [],
   "source": [
    "m = nn.Tanh()\n",
    "soft_max = nn.Softmax(dim=1)\n",
    "\n",
    "class RNN(nn.Module):\n",
    "    \"\"\"\n",
    "    Implement the scheme above as torch module\n",
    "    \"\"\"\n",
    "    def __init__(self, num_tokens=len(tokens), embedding_size=16, rnn_num_units=64):\n",
    "        super(self.__class__,self).__init__()\n",
    "        self.num_units = rnn_num_units\n",
    "        \n",
    "        self.embedding = nn.Embedding(num_tokens, embedding_size)\n",
    "        self.rnn_update = nn.Linear(embedding_size + rnn_num_units, rnn_num_units)   \n",
    "        self.rnn_to_logits = nn.Linear(rnn_num_units, num_tokens)          \n",
    "        \n",
    "    def forward(self, x, h_prev):\n",
    "        \"\"\"\n",
    "        This method computes h_next(x, h_prev) and log P(x_next | h_next)\n",
    "        We'll call it repeatedly to produce the whole sequence.\n",
    "        \n",
    "        :param x: batch of character ids, int64[batch_size]\n",
    "        :param h_prev: previous rnn hidden states, float32 matrix [batch, rnn_num_units]\n",
    "        \"\"\"\n",
    "        # get vector embedding of x\n",
    "        x_emb = self.embedding(x)\n",
    "        #print(\"x_emb:\", x_emb.shape)\n",
    "        \n",
    "        h_next = torch.cat((h_prev, x_emb), dim=1)\n",
    "        #print(\"concat: \", h_next.shape)\n",
    "        \n",
    "        h_next = m(h_next @ self.rnn_update.weight.T)\n",
    "        #print(\"h_next\", h_next.shape)\n",
    "        \n",
    "        #compute logits for next character probs\n",
    "        logits = h_next @ self.rnn_to_logits.weight.T\n",
    "        #print(\"logits\", F.log_softmax(logits, -1).shape)\n",
    " \n",
    "        return h_next, F.log_softmax(logits, -1)\n",
    "    \n",
    "    \n",
    "    def initial_state(self, batch_size):\n",
    "        \"\"\" return rnn state before it processes first input (aka h0) \"\"\"\n",
    "        return torch.zeros(batch_size, self.num_units)"
   ]
  },
  {
   "cell_type": "markdown",
   "metadata": {},
   "source": [
    "### Forward Pass for 1 Batch\n",
    "\n",
    "Once we've defined a single RNN step, we can apply it in a loop to get predictions on each step."
   ]
  },
  {
   "cell_type": "code",
   "execution_count": 15,
   "metadata": {},
   "outputs": [
    {
     "name": "stdout",
     "output_type": "stream",
     "text": [
      "batch:  torch.Size([5, 24])\n",
      "\n",
      "batch_size, name_len:  5 24\n",
      "\n",
      "initial hidden state:  torch.Size([5, 64])\n",
      "\n",
      "rnn update:  torch.Size([64, 89])\n",
      "\n",
      "to_logits:  torch.Size([62, 64])\n",
      "\n",
      "ht-1:  torch.Size([5, 64])\n",
      "xt:  torch.Size([5])\n",
      "rnn update:  torch.Size([64, 89])\n"
     ]
    }
   ],
   "source": [
    "rnn = RNN(embedding_size=25)\n",
    "\n",
    "# get name matrix && convert to Tensor\n",
    "batch_ix = to_matrix(lines[:5])\n",
    "batch_ix = torch.tensor(batch_ix, dtype=torch.int64)\n",
    "print(\"batch: \", batch_ix.shape)\n",
    "\n",
    "# get \"name\" matrix size\n",
    "batch_size, max_length = batch_ix.size()\n",
    "print(\"\\nbatch_size, name_len: \", batch_size, max_length)\n",
    "\n",
    "# get h0 state\n",
    "hid_state = rnn.initial_state(batch_size)\n",
    "print(\"\\ninitial hidden state: \", hid_state.shape)\n",
    "\n",
    "print(\"\\nrnn update: \", rnn.rnn_update.weight.shape)\n",
    "\n",
    "print(\"\\nto_logits: \", rnn.rnn_to_logits.weight.shape)\n",
    "\n",
    "# pass xt to RNN\n",
    "for x_t in batch_ix.transpose(0,1):      # why transpose?\n",
    "    print(\"\\nht-1: \", hid_state.shape)\n",
    "    print(\"xt: \", x_t.shape)\n",
    "    emb = rnn(x_t, hid_state)\n",
    "    print(\"rnn update: \", rnn.rnn_update.weight.shape)\n",
    "    break\n",
    "\n"
   ]
  },
  {
   "cell_type": "markdown",
   "metadata": {},
   "source": [
    "## Calculate log P for all batches"
   ]
  },
  {
   "cell_type": "code",
   "execution_count": 21,
   "metadata": {},
   "outputs": [],
   "source": [
    "def rnn_loop(rnn, batch_ix):\n",
    "    \n",
    "    \"\"\"\n",
    "    Computes log P(next_character) for all time-steps in lines_ix\n",
    "    :param lines_ix: an int32 matrix of shape [batch, time], output of to_matrix(lines)\n",
    "    \"\"\"\n",
    "    batch_size, max_length = batch_ix.size()\n",
    "    hid_state = rnn.initial_state(batch_size)\n",
    "    logprobs = []\n",
    "\n",
    "    for x_t in batch_ix.transpose(0,1):\n",
    "        hid_state, logp_next = rnn(x_t, hid_state)  # <-- here we call your one-step code\n",
    "        logprobs.append(logp_next)\n",
    "        #print(hid_state)\n",
    "    return torch.stack(logprobs, dim=1)\n",
    "\n",
    "#rnn_loop(rnn, batch_ix)"
   ]
  },
  {
   "cell_type": "code",
   "execution_count": 17,
   "metadata": {},
   "outputs": [
    {
     "name": "stdout",
     "output_type": "stream",
     "text": [
      "5\n"
     ]
    }
   ],
   "source": [
    "batch_ix = to_matrix(lines[:5])\n",
    "batch_ix = torch.tensor(batch_ix, dtype=torch.int64)\n",
    "\n",
    "logp_seq = rnn_loop(rnn, batch_ix)\n",
    "print(len(logp_seq))\n",
    "\n",
    "assert torch.max(logp_seq).data.numpy() <= 0\n",
    "assert tuple(logp_seq.size()) ==  batch_ix.shape + (num_tokens,)"
   ]
  },
  {
   "cell_type": "markdown",
   "metadata": {},
   "source": [
    "### Likelihood and gradients\n",
    "\n",
    "We can now train our neural network to minimize crossentropy (maximize log-likelihood) with the actual next tokens.\n",
    "\n",
    "To do so in a vectorized manner, we take `batch_ix[:, 1:]` - a matrix of token ids shifted i step to the left so i-th element is acutally the \"next token\" for i-th prediction"
   ]
  },
  {
   "cell_type": "code",
   "execution_count": 18,
   "metadata": {},
   "outputs": [
    {
     "name": "stdout",
     "output_type": "stream",
     "text": [
      "torch.Size([5, 23, 1])\n"
     ]
    }
   ],
   "source": [
    "predictions_logp = logp_seq[:, :-1]\n",
    "actual_next_tokens = batch_ix[:, 1:]\n",
    "\n",
    "# take the actual letter in word from logits matrix\n",
    "logp_next = torch.gather(predictions_logp, dim=2, index=actual_next_tokens[:,:,None])\n",
    "print(logp_next.shape)\n",
    "\n",
    "loss = -logp_next.mean()"
   ]
  },
  {
   "cell_type": "code",
   "execution_count": 19,
   "metadata": {},
   "outputs": [
    {
     "name": "stdout",
     "output_type": "stream",
     "text": [
      "all log_p size torch.Size([5, 24, 62])\n",
      "next log_p size torch.Size([5, 23, 62])\n",
      "\n",
      "actual batch next tokens\n",
      " tensor([[18, 26,  1,  4,  4, 49, 13, 26, 50, 50, 50, 50, 50, 50, 50, 50, 50, 50,\n",
      "         50, 50, 50, 50, 50],\n",
      "        [50, 50, 50, 50, 50, 50, 50, 50, 50, 50, 50, 50, 50, 50, 50, 50, 50, 50,\n",
      "         50, 50, 50, 50, 50],\n",
      "        [50, 50, 50, 50, 50, 50, 50, 50, 50, 50, 50, 50, 50, 50, 50, 50, 50, 50,\n",
      "         50, 50, 50, 50, 50],\n",
      "        [50, 50, 50, 50, 50, 50, 50, 50, 50, 50, 50, 50, 50, 50, 50, 50, 50, 50,\n",
      "         50, 50, 50, 50, 50],\n",
      "        [13,  1, 50, 13,  7, 49, 50,  1,  4, 54,  5, 50, 20, 49, 17, 49, 13, 13,\n",
      "         49, 30, 50,  1, 61]])\n",
      "\n",
      " actual letter prob\n",
      " tensor([[[-4.1656, -4.2230, -4.2230, -4.2230, -4.0996],\n",
      "         [-4.1308, -4.1395, -4.1395, -4.1395, -3.9421],\n",
      "         [-4.1171, -4.1149, -4.1149, -4.1149, -4.0612],\n",
      "         [-4.2530, -4.0828, -4.0828, -4.0828, -4.0739],\n",
      "         [-4.1403, -4.0759, -4.0759, -4.0759, -4.2083],\n",
      "         [-3.9846, -4.0768, -4.0768, -4.0768, -4.2121],\n",
      "         [-4.2874, -4.0770, -4.0770, -4.0770, -4.0627],\n",
      "         [-4.1538, -4.0768, -4.0768, -4.0768, -4.2161],\n",
      "         [-4.3664, -4.0767, -4.0767, -4.0767, -4.2175],\n",
      "         [-4.1656, -4.0766, -4.0766, -4.0766, -4.2637],\n",
      "         [-4.0391, -4.0766, -4.0766, -4.0766, -4.3355],\n",
      "         [-4.0909, -4.0766, -4.0766, -4.0766, -4.3011],\n",
      "         [-4.0811, -4.0766, -4.0766, -4.0766, -4.3410],\n",
      "         [-4.0748, -4.0766, -4.0766, -4.0766, -4.3274],\n",
      "         [-4.0772, -4.0766, -4.0766, -4.0766, -4.1541],\n",
      "         [-4.0758, -4.0766, -4.0766, -4.0766, -4.5641],\n",
      "         [-4.0766, -4.0766, -4.0766, -4.0766, -4.2486],\n",
      "         [-4.0766, -4.0766, -4.0766, -4.0766, -4.2984],\n",
      "         [-4.0766, -4.0766, -4.0766, -4.0766, -4.0281],\n",
      "         [-4.0766, -4.0766, -4.0766, -4.0766, -4.1657],\n",
      "         [-4.0766, -4.0766, -4.0766, -4.0766, -4.0222],\n",
      "         [-4.0766, -4.0766, -4.0766, -4.0766, -4.1458],\n",
      "         [-4.0766, -4.0766, -4.0766, -4.0766, -4.0891]]],\n",
      "       grad_fn=<PermuteBackward>)\n"
     ]
    }
   ],
   "source": [
    "print(\"all log_p size\", logp_seq.size())\n",
    "\n",
    "print(\"next log_p size\", predictions_logp.size())\n",
    "\n",
    "print(\"\\nactual batch next tokens\\n\", actual_next_tokens)\n",
    "\n",
    "print(\"\\n actual letter prob\\n\", logp_next.T)  # want to be minimal\n",
    "\n",
    "#logp_next"
   ]
  },
  {
   "cell_type": "code",
   "execution_count": 20,
   "metadata": {},
   "outputs": [],
   "source": [
    "loss.backward()"
   ]
  },
  {
   "cell_type": "code",
   "execution_count": 21,
   "metadata": {},
   "outputs": [
    {
     "ename": "AssertionError",
     "evalue": "Loss is not differentiable w.r.t. a weight with shape torch.Size([64]). Check forward method.",
     "output_type": "error",
     "traceback": [
      "\u001b[0;31m---------------------------------------------------------------------------\u001b[0m",
      "\u001b[0;31mAssertionError\u001b[0m                            Traceback (most recent call last)",
      "\u001b[0;32m<ipython-input-21-1c640fde2a27>\u001b[0m in \u001b[0;36m<module>\u001b[0;34m\u001b[0m\n\u001b[1;32m      1\u001b[0m \u001b[0;32mfor\u001b[0m \u001b[0mw\u001b[0m \u001b[0;32min\u001b[0m \u001b[0mrnn\u001b[0m\u001b[0;34m.\u001b[0m\u001b[0mparameters\u001b[0m\u001b[0;34m(\u001b[0m\u001b[0;34m)\u001b[0m\u001b[0;34m:\u001b[0m\u001b[0;34m\u001b[0m\u001b[0;34m\u001b[0m\u001b[0m\n\u001b[1;32m      2\u001b[0m     \u001b[0;32massert\u001b[0m \u001b[0mw\u001b[0m\u001b[0;34m.\u001b[0m\u001b[0mgrad\u001b[0m \u001b[0;32mis\u001b[0m \u001b[0;32mnot\u001b[0m \u001b[0;32mNone\u001b[0m \u001b[0;32mand\u001b[0m \u001b[0mtorch\u001b[0m\u001b[0;34m.\u001b[0m\u001b[0mmax\u001b[0m\u001b[0;34m(\u001b[0m\u001b[0mtorch\u001b[0m\u001b[0;34m.\u001b[0m\u001b[0mabs\u001b[0m\u001b[0;34m(\u001b[0m\u001b[0mw\u001b[0m\u001b[0;34m.\u001b[0m\u001b[0mgrad\u001b[0m\u001b[0;34m)\u001b[0m\u001b[0;34m)\u001b[0m\u001b[0;34m.\u001b[0m\u001b[0mdata\u001b[0m\u001b[0;34m.\u001b[0m\u001b[0mnumpy\u001b[0m\u001b[0;34m(\u001b[0m\u001b[0;34m)\u001b[0m \u001b[0;34m!=\u001b[0m \u001b[0;36m0\u001b[0m\u001b[0;34m,\u001b[0m\u001b[0;31m \u001b[0m\u001b[0;31m\\\u001b[0m\u001b[0;34m\u001b[0m\u001b[0;34m\u001b[0m\u001b[0m\n\u001b[0;32m----> 3\u001b[0;31m         \u001b[0;34m\"Loss is not differentiable w.r.t. a weight with shape %s. Check forward method.\"\u001b[0m \u001b[0;34m%\u001b[0m \u001b[0;34m(\u001b[0m\u001b[0mw\u001b[0m\u001b[0;34m.\u001b[0m\u001b[0msize\u001b[0m\u001b[0;34m(\u001b[0m\u001b[0;34m)\u001b[0m\u001b[0;34m,\u001b[0m\u001b[0;34m)\u001b[0m\u001b[0;34m\u001b[0m\u001b[0;34m\u001b[0m\u001b[0m\n\u001b[0m",
      "\u001b[0;31mAssertionError\u001b[0m: Loss is not differentiable w.r.t. a weight with shape torch.Size([64]). Check forward method."
     ]
    }
   ],
   "source": [
    "for w in rnn.parameters():\n",
    "    assert w.grad is not None and torch.max(torch.abs(w.grad)).data.numpy() != 0, \\\n",
    "        \"Loss is not differentiable w.r.t. a weight with shape %s. Check forward method.\" % (w.size(),)"
   ]
  },
  {
   "cell_type": "markdown",
   "metadata": {},
   "source": [
    "### The training loop\n",
    "\n",
    "We train our char-rnn exactly the same way we train any deep learning model: by minibatch sgd.\n",
    "\n",
    "The only difference is that this time we sample strings, not images or sound."
   ]
  },
  {
   "cell_type": "code",
   "execution_count": 20,
   "metadata": {},
   "outputs": [],
   "source": [
    "#rnn = CharRNNCell()\n",
    "opt = torch.optim.Adam(rnn.parameters())\n",
    "history = []"
   ]
  },
  {
   "cell_type": "code",
   "execution_count": 21,
   "metadata": {},
   "outputs": [
    {
     "data": {
      "image/png": "[encoded data removed]",
      "text/plain": [
       "<Figure size 432x288 with 1 Axes>"
      ]
     },
     "metadata": {
      "needs_background": "light"
     },
     "output_type": "display_data"
    },
    {
     "ename": "KeyboardInterrupt",
     "evalue": "",
     "output_type": "error",
     "traceback": [
      "\u001b[0;31m---------------------------------------------------------------------------\u001b[0m",
      "\u001b[0;31mKeyboardInterrupt\u001b[0m                         Traceback (most recent call last)",
      "\u001b[0;32m<ipython-input-21-e879f1f20ab7>\u001b[0m in \u001b[0;36m<module>\u001b[0;34m\u001b[0m\n\u001b[1;32m     15\u001b[0m \u001b[0;34m\u001b[0m\u001b[0m\n\u001b[1;32m     16\u001b[0m     \u001b[0;31m# train with backprop  <YOUR CODE>\u001b[0m\u001b[0;34m\u001b[0m\u001b[0;34m\u001b[0m\u001b[0;34m\u001b[0m\u001b[0m\n\u001b[0;32m---> 17\u001b[0;31m     \u001b[0mloss\u001b[0m\u001b[0;34m.\u001b[0m\u001b[0mbackward\u001b[0m\u001b[0;34m(\u001b[0m\u001b[0;34m)\u001b[0m\u001b[0;34m\u001b[0m\u001b[0;34m\u001b[0m\u001b[0m\n\u001b[0m\u001b[1;32m     18\u001b[0m     \u001b[0mopt\u001b[0m\u001b[0;34m.\u001b[0m\u001b[0mstep\u001b[0m\u001b[0;34m(\u001b[0m\u001b[0;34m)\u001b[0m\u001b[0;34m\u001b[0m\u001b[0;34m\u001b[0m\u001b[0m\n\u001b[1;32m     19\u001b[0m     \u001b[0mopt\u001b[0m\u001b[0;34m.\u001b[0m\u001b[0mzero_grad\u001b[0m\u001b[0;34m(\u001b[0m\u001b[0;34m)\u001b[0m\u001b[0;34m\u001b[0m\u001b[0;34m\u001b[0m\u001b[0m\n",
      "\u001b[0;32m/usr/local/lib/python3.6/dist-packages/torch/tensor.py\u001b[0m in \u001b[0;36mbackward\u001b[0;34m(self, gradient, retain_graph, create_graph)\u001b[0m\n\u001b[1;32m    183\u001b[0m                 \u001b[0mproducts\u001b[0m\u001b[0;34m.\u001b[0m \u001b[0mDefaults\u001b[0m \u001b[0mto\u001b[0m\u001b[0;31m \u001b[0m\u001b[0;31m`\u001b[0m\u001b[0;31m`\u001b[0m\u001b[0;32mFalse\u001b[0m\u001b[0;31m`\u001b[0m\u001b[0;31m`\u001b[0m\u001b[0;34m.\u001b[0m\u001b[0;34m\u001b[0m\u001b[0;34m\u001b[0m\u001b[0m\n\u001b[1;32m    184\u001b[0m         \"\"\"\n\u001b[0;32m--> 185\u001b[0;31m         \u001b[0mtorch\u001b[0m\u001b[0;34m.\u001b[0m\u001b[0mautograd\u001b[0m\u001b[0;34m.\u001b[0m\u001b[0mbackward\u001b[0m\u001b[0;34m(\u001b[0m\u001b[0mself\u001b[0m\u001b[0;34m,\u001b[0m \u001b[0mgradient\u001b[0m\u001b[0;34m,\u001b[0m \u001b[0mretain_graph\u001b[0m\u001b[0;34m,\u001b[0m \u001b[0mcreate_graph\u001b[0m\u001b[0;34m)\u001b[0m\u001b[0;34m\u001b[0m\u001b[0;34m\u001b[0m\u001b[0m\n\u001b[0m\u001b[1;32m    186\u001b[0m \u001b[0;34m\u001b[0m\u001b[0m\n\u001b[1;32m    187\u001b[0m     \u001b[0;32mdef\u001b[0m \u001b[0mregister_hook\u001b[0m\u001b[0;34m(\u001b[0m\u001b[0mself\u001b[0m\u001b[0;34m,\u001b[0m \u001b[0mhook\u001b[0m\u001b[0;34m)\u001b[0m\u001b[0;34m:\u001b[0m\u001b[0;34m\u001b[0m\u001b[0;34m\u001b[0m\u001b[0m\n",
      "\u001b[0;32m/usr/local/lib/python3.6/dist-packages/torch/autograd/__init__.py\u001b[0m in \u001b[0;36mbackward\u001b[0;34m(tensors, grad_tensors, retain_graph, create_graph, grad_variables)\u001b[0m\n\u001b[1;32m    125\u001b[0m     Variable._execution_engine.run_backward(\n\u001b[1;32m    126\u001b[0m         \u001b[0mtensors\u001b[0m\u001b[0;34m,\u001b[0m \u001b[0mgrad_tensors\u001b[0m\u001b[0;34m,\u001b[0m \u001b[0mretain_graph\u001b[0m\u001b[0;34m,\u001b[0m \u001b[0mcreate_graph\u001b[0m\u001b[0;34m,\u001b[0m\u001b[0;34m\u001b[0m\u001b[0;34m\u001b[0m\u001b[0m\n\u001b[0;32m--> 127\u001b[0;31m         allow_unreachable=True)  # allow_unreachable flag\n\u001b[0m\u001b[1;32m    128\u001b[0m \u001b[0;34m\u001b[0m\u001b[0m\n\u001b[1;32m    129\u001b[0m \u001b[0;34m\u001b[0m\u001b[0m\n",
      "\u001b[0;31mKeyboardInterrupt\u001b[0m: "
     ]
    }
   ],
   "source": [
    "for i in range(10000):\n",
    "    batch_ix = to_matrix(sample(lines, 32), max_len=MAX_LENGTH)\n",
    "    batch_ix = torch.tensor(batch_ix, dtype=torch.int64)\n",
    "    \n",
    "    logp_seq = rnn_loop(rnn, batch_ix)  # get log_P's for batch\n",
    "    predictions_logp = logp_seq[:, :-1] # get next log_p's\n",
    "    \n",
    "    actual_next_tokens = batch_ix[:, 1:] # get actual next tokens\n",
    "\n",
    "    # take the actual letter in word from logits matrix\n",
    "    logp_next = torch.gather(predictions_logp, dim=2, index=actual_next_tokens[:,:,None])\n",
    "\n",
    "    #compute loss\n",
    "    loss = -logp_next.mean()\n",
    "    \n",
    "    # train with backprop  <YOUR CODE>\n",
    "    loss.backward()\n",
    "    opt.step()\n",
    "    opt.zero_grad()\n",
    "    \n",
    "    #rnn.rnn_update = ...\n",
    "    #rnn.rnn_to_logits =  ...\n",
    "    \n",
    "    \n",
    "    history.append(loss.data.numpy())\n",
    "    if (i+1)%100==0:\n",
    "        clear_output(True)\n",
    "        plt.plot(history,label='loss')\n",
    "        plt.legend()\n",
    "        plt.show()\n",
    "\n",
    "assert np.mean(history[:10]) > np.mean(history[-10:]), \"RNN didn't converge.\""
   ]
  },
  {
   "cell_type": "markdown",
   "metadata": {},
   "source": [
    "### RNN: sampling\n",
    "Once we've trained our network a bit, let's get to actually generating stuff. \n",
    "All we need is the single rnn step function you have defined in `char_rnn.forward`."
   ]
  },
  {
   "cell_type": "code",
   "execution_count": 22,
   "metadata": {},
   "outputs": [
    {
     "name": "stdout",
     "output_type": "stream",
     "text": [
      " So this writ you worntion deserved endees my insor by still \n"
     ]
    }
   ],
   "source": [
    "def generate_sample(char_rnn, seed_phrase=' ', max_length=MAX_LENGTH, temperature=1.0):\n",
    "    '''\n",
    "    The function generates text given a phrase of length at least SEQ_LENGTH.\n",
    "    :param seed_phrase: prefix characters. The RNN is asked to continue the phrase\n",
    "    :param max_length: maximum output length, including seed_phrase\n",
    "    :param temperature: coefficient for sampling.  higher temperature produces more chaotic outputs,\n",
    "                        smaller temperature converges to the single most likely output\n",
    "    '''\n",
    "    \n",
    "    x_sequence = [token_to_id[token] for token in seed_phrase]  # get sequance\n",
    "    x_sequence = torch.tensor([x_sequence], dtype=torch.int64)\n",
    "    #print(\"actual seq: \", x_sequence)\n",
    "    hid_state = char_rnn.initial_state(batch_size=1)\n",
    "    \n",
    "    #feed the seed phrase, if any\n",
    "    for i in range(len(seed_phrase) - 1):\n",
    "        #print(\"x_seq\", x_sequence[:, i])\n",
    "        hid_state, _ = char_rnn(x_sequence[:, i], hid_state)\n",
    "    \n",
    "    #start generating\n",
    "    for _ in range(max_length - len(seed_phrase)):\n",
    "        #print(\"x_seq\", x_sequence[:, -1])\n",
    "        hid_state, logp_next = char_rnn(x_sequence[:, -1], hid_state)\n",
    "        p_next = F.softmax(logp_next / temperature, dim=-1).data.numpy()[0]\n",
    "        #print(\"p_next\", p_next.shape)\n",
    "        #print(p_next)\n",
    "        \n",
    "        # sample next token and push it back into x_sequence\n",
    "        next_ix = np.random.choice(num_tokens,p=p_next)\n",
    "        next_ix = torch.tensor([[next_ix]], dtype=torch.int64)\n",
    "        #print(\"next_ix\", next_ix)\n",
    "        x_sequence = torch.cat([x_sequence, next_ix], dim=1)\n",
    "        #print(\"final seq\", x_sequence)\n",
    "     \n",
    "    #print(\"print seq\", x_sequence.data.numpy()[0])\n",
    "    return ''.join([tokens[ix] for ix in x_sequence.data.numpy()[0]])\n",
    "\n",
    "print(generate_sample(rnn))"
   ]
  },
  {
   "cell_type": "code",
   "execution_count": 23,
   "metadata": {},
   "outputs": [
    {
     "name": "stdout",
     "output_type": "stream",
     "text": [
      "   all                                                       \n",
      " Mus of true happose I, fears,                               \n",
      " Lather's be poor teen's losurones preous a this ten pracess \n",
      "                                                             \n",
      "   in mose couly thed wrink on my puty, by the love thosving \n",
      " Mish                                                        \n",
      "   Thesoild ouftles I so that Melfets less, if you is wince q\n",
      " My doin spee tatieed to be ase but I thou                   \n",
      " Dot pound,                                                  \n",
      " Ap wrent.                                                   \n",
      " Thine;                                                      \n",
      "                                                             \n",
      "   Kild, and that and,                                       \n",
      " Thy sporn, and in of bequequmits his I as thoray agand and k\n",
      "   Yat,                                                      \n",
      " O, se so winds crowsil:                                     \n",
      " Time giver from thich, frouf happurs whelland more for thous\n",
      " LXXI.                                                       \n",
      " In your shall distant;                                      \n",
      " By stort I see to this skambs slavereting heatening wV.     \n"
     ]
    }
   ],
   "source": [
    "for _ in range(20):\n",
    "    print(generate_sample(rnn))"
   ]
  },
  {
   "cell_type": "code",
   "execution_count": 155,
   "metadata": {},
   "outputs": [
    {
     "name": "stdout",
     "output_type": "stream",
     "text": [
      "torch.Size([1, 55])\n"
     ]
    }
   ],
   "source": [
    "k = torch.tensor([31], dtype=torch.int64)\n",
    "\n",
    "hid_state = rnn.initial_state(batch_size=1)\n",
    "h_next, logp =  rnn(k, hid_state)    # h_next and logits\n",
    "print(logp.shape)\n",
    "\n",
    "#model(k)"
   ]
  },
  {
   "cell_type": "code",
   "execution_count": 252,
   "metadata": {},
   "outputs": [
    {
     "name": "stdout",
     "output_type": "stream",
     "text": [
      " Puurita            \n",
      " Alkelde            \n",
      " Jesseo             \n",
      " Killa              \n",
      " Loryane            \n",
      " Traceo             \n",
      " Britta             \n",
      " Rokell             \n",
      " Matther            \n",
      " Dephen             \n",
      " Randon             \n",
      " Elex               \n",
      " Cat                \n",
      " Windred            \n",
      " Giffie             \n",
      " Zsila              \n",
      " Loty               \n",
      " Cliel              \n",
      " Vival              \n",
      " Inguenn            \n"
     ]
    }
   ],
   "source": [
    "for _ in range(20):\n",
    "    print(generate_sample(rnn, max_length=20, temperature=1))"
   ]
  },
  {
   "cell_type": "code",
   "execution_count": null,
   "metadata": {},
   "outputs": [],
   "source": [
    "for _ in range(20):\n",
    "    print(generate_sample(rnn, seed_phrase='Timur '))"
   ]
  },
  {
   "cell_type": "code",
   "execution_count": null,
   "metadata": {},
   "outputs": [],
   "source": [
    "for _ in range(10):\n",
    "    print(generate_sample(rnn))"
   ]
  },
  {
   "cell_type": "markdown",
   "metadata": {},
   "source": [
    "### Try it out!\n",
    "You've just implemented a recurrent language model that can be tasked with generating any kind of sequence, so there's plenty of data you can try it on:\n",
    "\n",
    "* Novels/poems/songs of your favorite author\n",
    "* News titles/clickbait titles\n",
    "* Source code of Linux or Tensorflow\n",
    "* Molecules in [smiles](https://en.wikipedia.org/wiki/Simplified_molecular-input_line-entry_system) format\n",
    "* Melody in notes/chords format\n",
    "* Ikea catalog titles\n",
    "* Pokemon names\n",
    "* Cards from Magic, the Gathering / Hearthstone\n",
    "\n",
    "If you're willing to give it a try, here's what you wanna look at:\n",
    "* Current data format is a sequence of lines, so a novel can be formatted as a list of sentences. Alternatively, you can change data preprocessing altogether.\n",
    "* While some datasets are readily available, others can only be scraped from the web. Try `Selenium` or `Scrapy` for that.\n",
    "* Make sure MAX_LENGTH is adjusted for longer datasets. There's also a bonus section about dynamic RNNs at the bottom.\n",
    "* More complex tasks require larger RNN architecture, try more neurons or several layers. It would also require more training iterations.\n",
    "* Long-term dependencies in music, novels or molecules are better handled with LSTM or GRU\n",
    "\n",
    "__Good hunting!__"
   ]
  },
  {
   "cell_type": "markdown",
   "metadata": {
    "collapsed": true
   },
   "source": [
    "### More seriously\n",
    "\n",
    "What we just did is a manual low-level implementation of RNN. While it's cool, i guess you won't like the idea of re-writing it from scratch on every occasion. \n",
    "\n",
    "As you might have guessed, torch has a solution for this. To be more specific, there are two options:\n",
    "* `nn.RNNCell(emb_size, rnn_num_units)` - implements a single step of RNN just like you did. Basically concat-linear-tanh\n",
    "* `nn.RNN(emb_size, rnn_num_units` - implements the whole rnn_loop for you.\n",
    "\n",
    "There's also `nn.LSTMCell` vs `nn.LSTM`, `nn.GRUCell` vs `nn.GRU`, etc. etc.\n",
    "\n",
    "In this example we'll rewrite the char_rnn and rnn_loop using high-level rnn API."
   ]
  },
  {
   "cell_type": "markdown",
   "metadata": {},
   "source": [
    "# RNN Pytorch Implementation"
   ]
  },
  {
   "cell_type": "code",
   "execution_count": 120,
   "metadata": {},
   "outputs": [],
   "source": [
    "class CharRNNLoop(nn.Module):\n",
    "    def __init__(self, num_tokens=num_tokens, emb_size=16, rnn_num_units=64):\n",
    "        super(self.__class__, self).__init__()\n",
    "        self.emb = nn.Embedding(num_tokens, emb_size)\n",
    "        self.rnn = nn.RNN(emb_size, rnn_num_units, batch_first=True)    # tan[conact hid * W]\n",
    "        self.hid_to_logits = nn.Linear(rnn_num_units, num_tokens)\n",
    "        \n",
    "    def forward(self, x):\n",
    "        h_seq, _ = self.rnn(self.emb(x))                     # h_next\n",
    "        next_logits = self.hid_to_logits(h_seq)              # \n",
    "        next_logp = F.log_softmax(next_logits, dim=-1)\n",
    "        return next_logp\n",
    "    \n",
    "    \n",
    "model = CharRNNLoop()"
   ]
  },
  {
   "cell_type": "markdown",
   "metadata": {},
   "source": [
    "#### Feed Batch"
   ]
  },
  {
   "cell_type": "code",
   "execution_count": 294,
   "metadata": {},
   "outputs": [
    {
     "name": "stdout",
     "output_type": "stream",
     "text": [
      "torch.Size([4, 16])\n",
      "torch.Size([4, 16, 55])\n",
      "tensor(1.0000, grad_fn=<SumBackward0>)\n"
     ]
    },
    {
     "data": {
      "text/plain": [
       "torch.Size([55])"
      ]
     },
     "execution_count": 294,
     "metadata": {},
     "output_type": "execute_result"
    }
   ],
   "source": [
    "batch_ix = to_matrix(sample(lines, 4), max_len=MAX_LENGTH)\n",
    "batch_ix = torch.tensor(batch_ix, dtype=torch.int64)\n",
    "print(batch_ix.shape)\n",
    "#print(batch_ix)\n",
    "\n",
    "logp_seq = model(batch_ix)\n",
    "print(logp_seq.shape)\n",
    "print(torch.exp(logp_seq[-1, -1, :]).sum())\n",
    "\n",
    "logp_seq[0][-1].shape"
   ]
  },
  {
   "cell_type": "markdown",
   "metadata": {},
   "source": [
    "#### Feed one Char"
   ]
  },
  {
   "cell_type": "code",
   "execution_count": 161,
   "metadata": {},
   "outputs": [
    {
     "name": "stdout",
     "output_type": "stream",
     "text": [
      "torch.Size([1, 1])\n",
      "torch.Size([1, 1, 55])\n"
     ]
    },
    {
     "data": {
      "text/plain": [
       "tensor(1.0000, grad_fn=<SumBackward0>)"
      ]
     },
     "execution_count": 161,
     "metadata": {},
     "output_type": "execute_result"
    }
   ],
   "source": [
    "k = torch.tensor([31], dtype=torch.int64)\n",
    "k = k.unsqueeze(0)\n",
    "print(k.shape)\n",
    "\n",
    "log_p = model(k)\n",
    "print(log_p.shape)\n",
    "torch.exp(log_p).sum()"
   ]
  },
  {
   "cell_type": "markdown",
   "metadata": {},
   "source": [
    "#### Train"
   ]
  },
  {
   "cell_type": "code",
   "execution_count": 121,
   "metadata": {},
   "outputs": [
    {
     "data": {
      "image/png": "[encoded data removed]",
      "text/plain": [
       "<Figure size 432x288 with 1 Axes>"
      ]
     },
     "metadata": {
      "needs_background": "light"
     },
     "output_type": "display_data"
    }
   ],
   "source": [
    "def train_model(model):\n",
    "    opt = torch.optim.Adam(model.parameters())\n",
    "    history = []\n",
    "    \n",
    "    for i in range(10000):\n",
    "        batch_ix = to_matrix(sample(lines, 32), max_len=MAX_LENGTH)\n",
    "        batch_ix = torch.tensor(batch_ix, dtype=torch.int64)\n",
    "        \n",
    "        logp_seq = model(batch_ix)     # forward pass\n",
    "        \n",
    "        predictions_logp = logp_seq[:, :-1] # get next log_p's\n",
    "\n",
    "        actual_next_tokens = batch_ix[:, 1:] # get actual next tokens\n",
    "\n",
    "        # take the actual letter in word from logits matrix\n",
    "        logp_next = torch.gather(predictions_logp, dim=2, index=actual_next_tokens[:,:,None])\n",
    "\n",
    "        #compute loss\n",
    "        loss = -logp_next.mean()\n",
    "\n",
    "        # train with backprop \n",
    "        loss.backward()\n",
    "        opt.step()\n",
    "        opt.zero_grad()\n",
    "        \n",
    "        history.append(loss.data.numpy())\n",
    "        if (i+1)%100==0:\n",
    "            clear_output(True)\n",
    "            plt.plot(history,label='loss')\n",
    "            plt.legend()\n",
    "            plt.show()\n",
    "        \n",
    "        #return history\n",
    "        \n",
    "train_model(model) "
   ]
  },
  {
   "cell_type": "markdown",
   "metadata": {},
   "source": [
    "#### Predict"
   ]
  },
  {
   "cell_type": "code",
   "execution_count": 139,
   "metadata": {},
   "outputs": [
    {
     "name": "stdout",
     "output_type": "stream",
     "text": [
      "kerse,                                   \n",
      "kit coming fathing, thy onech thy plamany\n",
      "kin for the sud fortempon as end?        \n",
      "kandife:                                 \n",
      "king, my leving even your with name faud,\n",
      "ken,                                     \n",
      "kVsent not then and me is clent;         \n",
      "knsh shuse dive hold, so that I thede.   \n",
      "kes feuse,                               \n",
      "kney,                                    \n"
     ]
    }
   ],
   "source": [
    "def rnn_predict(model, text='k', phrase_len=16):\n",
    "    model.eval()\n",
    "    \n",
    "    words = text.split(' ')\n",
    "    \n",
    "    for i in range(0, phrase_len):\n",
    "        x = [token_to_id[token] for token in words] \n",
    "        x = torch.tensor([x], dtype=torch.int64)\n",
    "\n",
    "        y_pred = model(x)\n",
    "\n",
    "        last_word_logits = y_pred[0][-1] \n",
    "        \n",
    "        p = torch.nn.functional.softmax(last_word_logits, dim=0).detach().numpy()   # why 2 softmax\n",
    "        \n",
    "        word_index = np.random.choice(len(last_word_logits), p=p)   # get word\n",
    "        \n",
    "        words.append(id_to_token[word_index])\n",
    "\n",
    "    return ''.join(words)\n",
    "\n",
    "for i in range(10):\n",
    "    print(rnn_predict(model, text=\"k\", phrase_len=40))"
   ]
  },
  {
   "cell_type": "markdown",
   "metadata": {},
   "source": [
    "#### Forward Pass"
   ]
  },
  {
   "cell_type": "code",
   "execution_count": 253,
   "metadata": {},
   "outputs": [
    {
     "name": "stdout",
     "output_type": "stream",
     "text": [
      "torch.Size([8, 16])\n",
      "tensor(1.0000, grad_fn=<SumBackward0>)\n",
      "torch.Size([8, 16, 55])\n"
     ]
    }
   ],
   "source": [
    "# the model applies over the whole sequence\n",
    "batch_ix = to_matrix(sample(lines, 8), max_len=MAX_LENGTH)\n",
    "batch_ix = torch.tensor(batch_ix, dtype=torch.int64)\n",
    "print(batch_ix.shape)\n",
    "\n",
    "logp_seq = model(batch_ix)\n",
    "print(torch.exp(logp_seq[-1:,-1:,:]).sum())\n",
    "print(logp_seq.shape)\n",
    "\n",
    "# compute loss. This time we use nll_loss with some duct tape\n",
    "loss = F.nll_loss(logp_seq[:, :-1].contiguous().view(-1, num_tokens), \n",
    "                  batch_ix[:, 1:].contiguous().view(-1))\n",
    "\n",
    "loss.backward()"
   ]
  },
  {
   "cell_type": "markdown",
   "metadata": {
    "collapsed": true
   },
   "source": [
    "# LSTM"
   ]
  },
  {
   "cell_type": "code",
   "execution_count": 214,
   "metadata": {},
   "outputs": [],
   "source": [
    "class CharLSTMCell(nn.Module):\n",
    "    \"\"\"\n",
    "    Implements something like CharRNNCell, but with LSTM\n",
    "    \"\"\"\n",
    "    def __init__(self, num_tokens=len(tokens), embedding_size=16, rnn_num_units=64):\n",
    "        super(self.__class__,self).__init__()\n",
    "        self.num_units = rnn_num_units\n",
    "        self.emb = nn.Embedding(num_tokens, embedding_size)\n",
    "        self.lstm = nn.LSTMCell(embedding_size, rnn_num_units)\n",
    "        self.rnn_to_logits = nn.Linear(rnn_num_units, num_tokens)\n",
    "        \n",
    "    def forward(self, x, prev_state):\n",
    "        (prev_h, prev_c) = prev_state\n",
    "        (next_h, next_c) = self.lstm(self.emb(x), (prev_h, prev_c))\n",
    "        logits = self.rnn_to_logits(next_h)\n",
    "        \n",
    "        return (next_h, next_c), F.log_softmax(logits, -1)\n",
    "    \n",
    "    def initial_state(self, batch_size):\n",
    "        \"\"\" LSTM has two state variables, cell and hid \"\"\"\n",
    "        return torch.zeros(batch_size, self.num_units), torch.zeros(batch_size, self.num_units)\n",
    "    \n",
    "char_lstm = CharLSTMCell()"
   ]
  },
  {
   "cell_type": "markdown",
   "metadata": {},
   "source": [
    "#### Forward Pass"
   ]
  },
  {
   "cell_type": "code",
   "execution_count": 22,
   "metadata": {},
   "outputs": [],
   "source": [
    "# the model applies over the whole sequence\n",
    "batch_ix = to_matrix(sample(lines, 32), max_len=MAX_LENGTH)\n",
    "batch_ix = torch.tensor(batch_ix, dtype=torch.int64)\n",
    "\n",
    "logp_seq = rnn_loop(char_lstm, batch_ix)\n",
    "\n",
    "# compute loss. This time we use nll_loss with some duct tape\n",
    "loss = F.nll_loss(logp_seq[:, :-1].contiguous().view(-1, num_tokens), \n",
    "                  batch_ix[:, 1:].contiguous().view(-1))\n",
    "\n",
    "loss.backward()"
   ]
  },
  {
   "cell_type": "markdown",
   "metadata": {},
   "source": [
    "#### Train"
   ]
  },
  {
   "cell_type": "code",
   "execution_count": 217,
   "metadata": {},
   "outputs": [],
   "source": [
    "def train_lstm(model, deep=False):\n",
    "    opt = torch.optim.Adam(model.parameters())\n",
    "    history = []\n",
    "    \n",
    "    for i in range(10000):\n",
    "        batch_ix = to_matrix(sample(lines, 32), max_len=MAX_LENGTH)\n",
    "        batch_ix = torch.tensor(batch_ix, dtype=torch.int64)\n",
    "        \n",
    "        if deep == False:\n",
    "            logp_seq = rnn_loop(model, batch_ix)     # forward pass\n",
    "        else:\n",
    "            logp_seq = lstm_rnn_loop(model, batch_ix)\n",
    "        \n",
    "        predictions_logp = logp_seq[:, :-1] # get next log_p's\n",
    "\n",
    "        actual_next_tokens = batch_ix[:, 1:] # get actual next tokens\n",
    "\n",
    "        # take the actual letter in word from logits matrix\n",
    "        logp_next = torch.gather(predictions_logp, dim=2, index=actual_next_tokens[:,:,None])\n",
    "\n",
    "        #compute loss\n",
    "        loss = -logp_next.mean()\n",
    "\n",
    "        # train with backprop  <YOUR CODE>\n",
    "        loss.backward()\n",
    "        opt.step()\n",
    "        opt.zero_grad()\n",
    "        \n",
    "        history.append(loss.data.numpy())\n",
    "        if (i+1)%100==0:\n",
    "            clear_output(True)\n",
    "            plt.plot(history,label='loss')\n",
    "            plt.legend()\n",
    "            plt.show()\n",
    "        \n",
    "\n",
    "#train_lstm(char_lstm)"
   ]
  },
  {
   "cell_type": "markdown",
   "metadata": {},
   "source": [
    "#### LSTM Predict"
   ]
  },
  {
   "cell_type": "code",
   "execution_count": 216,
   "metadata": {},
   "outputs": [
    {
     "name": "stdout",
     "output_type": "stream",
     "text": [
      "hve:                                               \n",
      "h' Ish mights of goess greel more where wite       \n",
      "hay,,                                              \n",
      "hidin goon ston thich bodeds not foung,            \n",
      "hIIWhe Bates I defiver paitnows woul;              \n",
      "hR]n'n.                                            \n",
      "hAMPvjghDdesi.                                     \n",
      "h?Weesthrmfly buly tome.                           \n",
      "h]:And the love and should;                        \n",
      "h Who watches what shacule on shalosone asseep for \n"
     ]
    }
   ],
   "source": [
    "def predict(model, text=' ', phrase_len=16, deep=False):\n",
    "    model.eval()\n",
    "    \n",
    "    words = text.split(' ')\n",
    "    \n",
    "    for i in range(0, phrase_len):\n",
    "        x = [token_to_id[token] for token in words] \n",
    "        x = torch.tensor([x], dtype=torch.int64)\n",
    "        #print(\"\\n x\", x)\n",
    "        \n",
    "        if deep==True:\n",
    "            y_pred = lstm_rnn_loop(model, x)\n",
    "        else:\n",
    "            y_pred = rnn_loop(model, x)\n",
    "        #print(\"\\n y_pred\", y_pred.shape)\n",
    "\n",
    "        last_word_logits = y_pred[0][-1] \n",
    "        #print(\"\\n logits\", last_word_logits.shape)\n",
    "        p = torch.nn.functional.softmax(last_word_logits, dim=0).detach().numpy()   # why 2 softmax\n",
    "        \n",
    "        word_index = np.random.choice(len(last_word_logits), p=p)\n",
    "        \n",
    "        #print(\"\\n sample letter\", word_index)\n",
    "        \n",
    "        words.append(id_to_token[word_index])\n",
    "\n",
    "    return ''.join(words)\n",
    "\n",
    "for i in range(10):\n",
    "    print(predict(char_lstm, text=\"h\", phrase_len=50))"
   ]
  },
  {
   "cell_type": "markdown",
   "metadata": {},
   "source": [
    "### __Bonus quest: __ implement a model that uses 2 LSTM layers (the second lstm uses the first as input) and train it on your data."
   ]
  },
  {
   "cell_type": "markdown",
   "metadata": {},
   "source": [
    "# Deep RNN"
   ]
  },
  {
   "cell_type": "code",
   "execution_count": 149,
   "metadata": {},
   "outputs": [],
   "source": [
    "class RNN_2Layer(nn.Module):\n",
    "    def __init__(self, num_tokens=num_tokens, emb_size=16, rnn_num_units1=64, rnn_num_units2=32):\n",
    "        super(self.__class__, self).__init__()\n",
    "        self.emb = nn.Embedding(num_tokens, emb_size)\n",
    "        self.rnn1 = nn.RNN(emb_size, rnn_num_units1, batch_first=True)       # tan[conact hid * W]\n",
    "        self.rnn2 = nn.RNN(rnn_num_units1, rnn_num_units2, batch_first=True)\n",
    "        self.hid_to_logits = nn.Linear(rnn_num_units2, num_tokens)\n",
    "        \n",
    "    def forward(self, x):\n",
    "        h_seq, _ = self.rnn1(self.emb(x)) # h_next\n",
    "        j_seq, _ = self.rnn2(h_seq)\n",
    "        next_logits = self.hid_to_logits(j_seq)              # \n",
    "        next_logp = F.log_softmax(next_logits, dim=-1)\n",
    "        return next_logp\n",
    "    \n",
    "    \n",
    "model = CharRNNLoop()"
   ]
  },
  {
   "cell_type": "markdown",
   "metadata": {},
   "source": [
    "### Forward Pass"
   ]
  },
  {
   "cell_type": "code",
   "execution_count": 150,
   "metadata": {},
   "outputs": [
    {
     "name": "stdout",
     "output_type": "stream",
     "text": [
      "torch.Size([8, 61])\n",
      "tensor(1.0000, grad_fn=<SumBackward0>)\n",
      "torch.Size([8, 61, 62])\n"
     ]
    }
   ],
   "source": [
    "deep_rnn = RNN_2Layer()\n",
    "\n",
    "# the model applies over the whole sequence\n",
    "batch_ix = to_matrix(sample(lines, 8), max_len=MAX_LENGTH)\n",
    "batch_ix = torch.tensor(batch_ix, dtype=torch.int64)\n",
    "print(batch_ix.shape)\n",
    "\n",
    "logp_seq = deep_rnn(batch_ix)\n",
    "print(torch.exp(logp_seq[-1:,-1:,:]).sum())\n",
    "print(logp_seq.shape)\n",
    "\n",
    "# compute loss. This time we use nll_loss with some duct tape\n",
    "loss = F.nll_loss(logp_seq[:, :-1].contiguous().view(-1, num_tokens), \n",
    "                  batch_ix[:, 1:].contiguous().view(-1))\n",
    "\n",
    "loss.backward()"
   ]
  },
  {
   "cell_type": "markdown",
   "metadata": {},
   "source": [
    "### Train"
   ]
  },
  {
   "cell_type": "code",
   "execution_count": 151,
   "metadata": {},
   "outputs": [
    {
     "data": {
      "image/png": "[encoded data removed]",
      "text/plain": [
       "<Figure size 432x288 with 1 Axes>"
      ]
     },
     "metadata": {
      "needs_background": "light"
     },
     "output_type": "display_data"
    }
   ],
   "source": [
    "train_model(deep_rnn) "
   ]
  },
  {
   "cell_type": "markdown",
   "metadata": {},
   "source": [
    "### Predict"
   ]
  },
  {
   "cell_type": "code",
   "execution_count": 152,
   "metadata": {},
   "outputs": [
    {
     "name": "stdout",
     "output_type": "stream",
     "text": [
      "kings lie.                               \n",
      "king eye I nage conguest fair            \n",
      "kirghors no urins thou lecious thou did c\n",
      "ksees,                                   \n",
      "kXLS.                                    \n",
      "kprossos in grave of men                 \n",
      "khul doth self'Br thy self so natune in t\n",
      "kings deest to stather, you'd hast nef do\n",
      "khd two greace where con o, wht shoaraget\n",
      "kios to mone bast.                       \n"
     ]
    }
   ],
   "source": [
    "for i in range(10):\n",
    "    print(rnn_predict(deep_rnn, text=\"k\", phrase_len=40))"
   ]
  },
  {
   "cell_type": "markdown",
   "metadata": {},
   "source": [
    "# Deep LSTM"
   ]
  },
  {
   "cell_type": "code",
   "execution_count": 219,
   "metadata": {},
   "outputs": [],
   "source": [
    "class LSTM_2Layer(nn.Module):\n",
    "    def __init__(self, num_tokens=len(tokens), embedding_size=16, rnn_num_units1=64,rnn_num_units2=128):\n",
    "        super(self.__class__,self).__init__()\n",
    "        self.num_units1 = rnn_num_units1\n",
    "        self.num_units2 = rnn_num_units2\n",
    "        \n",
    "        self.emb = nn.Embedding(num_tokens, embedding_size)\n",
    "        \n",
    "        self.lstm1 = nn.LSTMCell(embedding_size, rnn_num_units1)\n",
    "        \n",
    "        self.lstm2 = nn.LSTMCell(rnn_num_units1, rnn_num_units2)\n",
    "        \n",
    "        self.rnn_to_logits = nn.Linear(rnn_num_units2, num_tokens)\n",
    "        \n",
    "    def forward(self, x, prev_state1, prev_state2):\n",
    "        (prev_h, prev_ch) = prev_state1\n",
    "        (next_h, next_ch) = self.lstm1(self.emb(x), (prev_h, prev_ch))\n",
    "        \n",
    "        (prev_j, prev_cj) = prev_state2\n",
    "        (next_j, next_cj) = self.lstm2(next_h, (prev_j, prev_cj))\n",
    "        \n",
    "        #return (next_h, next_ch), (next_j, next_cj)\n",
    "        \n",
    "        logits = self.rnn_to_logits(next_j)\n",
    "        \n",
    "        return (next_h, next_ch), (next_j, next_cj), F.log_softmax(logits, -1)\n",
    "    \n",
    "    def initial_state1(self, batch_size):\n",
    "        \"\"\" LSTM has two state variables, cell and hid \"\"\"\n",
    "        return torch.zeros(batch_size, self.num_units1), torch.zeros(batch_size, self.num_units1)\n",
    "    \n",
    "    def initial_state2(self, batch_size):\n",
    "        \"\"\" LSTM has two state variables, cell and hid \"\"\"\n",
    "        return torch.zeros(batch_size, self.num_units2), torch.zeros(batch_size, self.num_units2)\n",
    "    \n",
    "deep_lstm = LSTM_2Layer()"
   ]
  },
  {
   "cell_type": "markdown",
   "metadata": {},
   "source": [
    "### RNN Loop"
   ]
  },
  {
   "cell_type": "code",
   "execution_count": 220,
   "metadata": {},
   "outputs": [
    {
     "data": {
      "text/plain": [
       "torch.Size([32, 61, 62])"
      ]
     },
     "execution_count": 220,
     "metadata": {},
     "output_type": "execute_result"
    }
   ],
   "source": [
    "def lstm_rnn_loop(rnn, batch_ix):\n",
    "    \n",
    "    \"\"\"\n",
    "    Computes log P(next_character) for all time-steps in lines_ix\n",
    "    :param lines_ix: an int32 matrix of shape [batch, time], output of to_matrix(lines)\n",
    "    \"\"\"\n",
    "    batch_size, max_length = batch_ix.size()\n",
    "    \n",
    "    hid_state1 = rnn.initial_state1(batch_size)\n",
    "    hid_state2 = rnn.initial_state2(batch_size)\n",
    "    \n",
    "    logprobs = []\n",
    "\n",
    "    for x_t in batch_ix.transpose(0,1):\n",
    "        hid_state1, hid_state2, logp_next = rnn(x_t, hid_state1, hid_state2)  # <-- here we call your one-step code\n",
    "        \n",
    "        logprobs.append(logp_next)\n",
    "    return torch.stack(logprobs, dim=1)\n",
    "\n",
    "#rnn_loop(rnn, batch_ix)\n",
    "\n",
    "batch_ix = to_matrix(sample(lines, 32), max_len=MAX_LENGTH)\n",
    "batch_ix = torch.tensor(batch_ix, dtype=torch.int64)\n",
    "\n",
    "logp_seq = lstm_rnn_loop(deep_lstm, batch_ix)\n",
    "logp_seq.shape"
   ]
  },
  {
   "cell_type": "markdown",
   "metadata": {},
   "source": [
    "### Forward Pass"
   ]
  },
  {
   "cell_type": "code",
   "execution_count": 221,
   "metadata": {},
   "outputs": [],
   "source": [
    "# the model applies over the whole sequence\n",
    "batch_ix = to_matrix(sample(lines, 32), max_len=MAX_LENGTH)\n",
    "batch_ix = torch.tensor(batch_ix, dtype=torch.int64)\n",
    "\n",
    "logp_seq = lstm_rnn_loop(deep_lstm, batch_ix)\n",
    "\n",
    "# compute loss. This time we use nll_loss with some duct tape\n",
    "loss = F.nll_loss(logp_seq[:, :-1].contiguous().view(-1, num_tokens), \n",
    "                  batch_ix[:, 1:].contiguous().view(-1))\n",
    "\n",
    "loss.backward()"
   ]
  },
  {
   "cell_type": "markdown",
   "metadata": {},
   "source": [
    "### Train"
   ]
  },
  {
   "cell_type": "code",
   "execution_count": null,
   "metadata": {},
   "outputs": [
    {
     "data": {
      "image/png": "[encoded data removed]",
      "text/plain": [
       "<Figure size 432x288 with 1 Axes>"
      ]
     },
     "metadata": {
      "needs_background": "light"
     },
     "output_type": "display_data"
    }
   ],
   "source": [
    "train_lstm(deep_lstm, deep=True)"
   ]
  },
  {
   "cell_type": "markdown",
   "metadata": {},
   "source": [
    "### Predict"
   ]
  },
  {
   "cell_type": "code",
   "execution_count": 213,
   "metadata": {},
   "outputs": [
    {
     "name": "stdout",
     "output_type": "stream",
     "text": [
      "hO[[?,T'L]!;'[?TTR;sEVmYlbAWy F gqJbLK\tVP:\tDqsHqfDf\n",
      "hDIKyC nK?nac[FYhTe,F\tNmpJcYuf]\tVrvqzsU- e;pqan-atY\n",
      "huyGDn'TA:e!BUSFkGTqk\tbtIXe;KR]fz!?WU-qBKln\tG-SmNg[\n",
      "h[j.ap'KWNBuo'N,nD?qk''wbM  g'.Jtmy]zs-,rGlWqvrlfy,\n",
      "hf,.upSlP]zOHFspgt,oD'VUhtoJq]Jk\tibAUqcfaRUHLugcOUO\n",
      "hR e?ULHU!sXPdJPRj[SIjXyJV[WJfP!IT?n:hCrJY:uyIkIcx,\n",
      "hlmaIhxykWuUygRq.IKqoSk\tIWmGd;!jPOCU,hbmSo[heB'hoxR\n",
      "hBSY!dDv;zqxBH!YdHFJCdM''\tb:CkmcTIp:Ox-bsD;N;Nf-T,C\n",
      "hKmk[!;bREXuDrKp!,kucG?AP'RtraycOe-d].GEpEqJ uEneFm\n",
      "hwBCDhqa-\tV;tMN[!dSt JSGkXCvSFI'Po-kGnkV]bdK\t;nDhw'\n"
     ]
    }
   ],
   "source": [
    "for i in range(10):\n",
    "    print(predict(deep_lstm, text=\"h\", phrase_len=50, deep=True))"
   ]
  },
  {
   "cell_type": "code",
   "execution_count": null,
   "metadata": {},
   "outputs": [],
   "source": []
  }
 ],
 "metadata": {
  "kernelspec": {
   "display_name": "Python 3",
   "language": "python",
   "name": "python3"
  },
  "language_info": {
   "codemirror_mode": {
    "name": "ipython",
    "version": 3
   },
   "file_extension": ".py",
   "mimetype": "text/x-python",
   "name": "python",
   "nbconvert_exporter": "python",
   "pygments_lexer": "ipython3",
   "version": "3.6.9"
  }
 },
 "nbformat": 4,
 "nbformat_minor": 1
}
